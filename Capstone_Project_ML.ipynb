{
  "nbformat": 4,
  "nbformat_minor": 5,
  "metadata": {
    "kernelspec": {
      "display_name": "Python 3",
      "language": "python",
      "name": "python3"
    },
    "language_info": {
      "codemirror_mode": {
        "name": "ipython",
        "version": 3
      },
      "file_extension": ".py",
      "mimetype": "text/x-python",
      "name": "python",
      "nbconvert_exporter": "python",
      "pygments_lexer": "ipython3",
      "version": "3.8.8"
    },
    "colab": {
      "name": "Capstone Project.ipynb",
      "provenance": [],
      "include_colab_link": true
    }
  },
  "cells": [
    {
      "cell_type": "markdown",
      "metadata": {
        "id": "view-in-github",
        "colab_type": "text"
      },
      "source": [
        "<a href=\"https://colab.research.google.com/github/Girish151296/Data_science/blob/main/Capstone_Project_ML.ipynb\" target=\"_parent\"><img src=\"https://colab.research.google.com/assets/colab-badge.svg\" alt=\"Open In Colab\"/></a>"
      ]
    },
    {
      "cell_type": "code",
      "metadata": {
        "id": "9483f143"
      },
      "source": [
        "#Import the libraries\n",
        "import numpy as np\n",
        "import pandas as pd\n",
        "import matplotlib.pyplot as plt\n",
        "import seaborn as sns\n",
        "%matplotlib inline"
      ],
      "id": "9483f143",
      "execution_count": null,
      "outputs": []
    },
    {
      "cell_type": "code",
      "metadata": {
        "id": "20cc3602",
        "outputId": "63678ffb-01a6-4ec6-b1f6-33472cbda293"
      },
      "source": [
        "#Load the data\n",
        "df = pd.read_csv(\"C:/Users/hp/Downloads/HR_Employee_Attrition_Data.csv\")\n",
        "df.head(10)"
      ],
      "id": "20cc3602",
      "execution_count": null,
      "outputs": [
        {
          "data": {
            "text/html": [
              "<div>\n",
              "<style scoped>\n",
              "    .dataframe tbody tr th:only-of-type {\n",
              "        vertical-align: middle;\n",
              "    }\n",
              "\n",
              "    .dataframe tbody tr th {\n",
              "        vertical-align: top;\n",
              "    }\n",
              "\n",
              "    .dataframe thead th {\n",
              "        text-align: right;\n",
              "    }\n",
              "</style>\n",
              "<table border=\"1\" class=\"dataframe\">\n",
              "  <thead>\n",
              "    <tr style=\"text-align: right;\">\n",
              "      <th></th>\n",
              "      <th>Age</th>\n",
              "      <th>Attrition</th>\n",
              "      <th>BusinessTravel</th>\n",
              "      <th>DailyRate</th>\n",
              "      <th>Department</th>\n",
              "      <th>DistanceFromHome</th>\n",
              "      <th>Education</th>\n",
              "      <th>EducationField</th>\n",
              "      <th>EmployeeCount</th>\n",
              "      <th>EmployeeNumber</th>\n",
              "      <th>...</th>\n",
              "      <th>RelationshipSatisfaction</th>\n",
              "      <th>StandardHours</th>\n",
              "      <th>StockOptionLevel</th>\n",
              "      <th>TotalWorkingYears</th>\n",
              "      <th>TrainingTimesLastYear</th>\n",
              "      <th>WorkLifeBalance</th>\n",
              "      <th>YearsAtCompany</th>\n",
              "      <th>YearsInCurrentRole</th>\n",
              "      <th>YearsSinceLastPromotion</th>\n",
              "      <th>YearsWithCurrManager</th>\n",
              "    </tr>\n",
              "  </thead>\n",
              "  <tbody>\n",
              "    <tr>\n",
              "      <th>0</th>\n",
              "      <td>41</td>\n",
              "      <td>Yes</td>\n",
              "      <td>Travel_Rarely</td>\n",
              "      <td>1102</td>\n",
              "      <td>Sales</td>\n",
              "      <td>1</td>\n",
              "      <td>2</td>\n",
              "      <td>Life Sciences</td>\n",
              "      <td>1</td>\n",
              "      <td>1</td>\n",
              "      <td>...</td>\n",
              "      <td>1</td>\n",
              "      <td>80</td>\n",
              "      <td>0</td>\n",
              "      <td>8</td>\n",
              "      <td>0</td>\n",
              "      <td>1</td>\n",
              "      <td>6</td>\n",
              "      <td>4</td>\n",
              "      <td>0</td>\n",
              "      <td>5</td>\n",
              "    </tr>\n",
              "    <tr>\n",
              "      <th>1</th>\n",
              "      <td>49</td>\n",
              "      <td>No</td>\n",
              "      <td>Travel_Frequently</td>\n",
              "      <td>279</td>\n",
              "      <td>Research &amp; Development</td>\n",
              "      <td>8</td>\n",
              "      <td>1</td>\n",
              "      <td>Life Sciences</td>\n",
              "      <td>1</td>\n",
              "      <td>2</td>\n",
              "      <td>...</td>\n",
              "      <td>4</td>\n",
              "      <td>80</td>\n",
              "      <td>1</td>\n",
              "      <td>10</td>\n",
              "      <td>3</td>\n",
              "      <td>3</td>\n",
              "      <td>10</td>\n",
              "      <td>7</td>\n",
              "      <td>1</td>\n",
              "      <td>7</td>\n",
              "    </tr>\n",
              "    <tr>\n",
              "      <th>2</th>\n",
              "      <td>37</td>\n",
              "      <td>Yes</td>\n",
              "      <td>Travel_Rarely</td>\n",
              "      <td>1373</td>\n",
              "      <td>Research &amp; Development</td>\n",
              "      <td>2</td>\n",
              "      <td>2</td>\n",
              "      <td>Other</td>\n",
              "      <td>1</td>\n",
              "      <td>3</td>\n",
              "      <td>...</td>\n",
              "      <td>2</td>\n",
              "      <td>80</td>\n",
              "      <td>0</td>\n",
              "      <td>7</td>\n",
              "      <td>3</td>\n",
              "      <td>3</td>\n",
              "      <td>0</td>\n",
              "      <td>0</td>\n",
              "      <td>0</td>\n",
              "      <td>0</td>\n",
              "    </tr>\n",
              "    <tr>\n",
              "      <th>3</th>\n",
              "      <td>33</td>\n",
              "      <td>No</td>\n",
              "      <td>Travel_Frequently</td>\n",
              "      <td>1392</td>\n",
              "      <td>Research &amp; Development</td>\n",
              "      <td>3</td>\n",
              "      <td>4</td>\n",
              "      <td>Life Sciences</td>\n",
              "      <td>1</td>\n",
              "      <td>4</td>\n",
              "      <td>...</td>\n",
              "      <td>3</td>\n",
              "      <td>80</td>\n",
              "      <td>0</td>\n",
              "      <td>8</td>\n",
              "      <td>3</td>\n",
              "      <td>3</td>\n",
              "      <td>8</td>\n",
              "      <td>7</td>\n",
              "      <td>3</td>\n",
              "      <td>0</td>\n",
              "    </tr>\n",
              "    <tr>\n",
              "      <th>4</th>\n",
              "      <td>27</td>\n",
              "      <td>No</td>\n",
              "      <td>Travel_Rarely</td>\n",
              "      <td>591</td>\n",
              "      <td>Research &amp; Development</td>\n",
              "      <td>2</td>\n",
              "      <td>1</td>\n",
              "      <td>Medical</td>\n",
              "      <td>1</td>\n",
              "      <td>5</td>\n",
              "      <td>...</td>\n",
              "      <td>4</td>\n",
              "      <td>80</td>\n",
              "      <td>1</td>\n",
              "      <td>6</td>\n",
              "      <td>3</td>\n",
              "      <td>3</td>\n",
              "      <td>2</td>\n",
              "      <td>2</td>\n",
              "      <td>2</td>\n",
              "      <td>2</td>\n",
              "    </tr>\n",
              "    <tr>\n",
              "      <th>5</th>\n",
              "      <td>32</td>\n",
              "      <td>No</td>\n",
              "      <td>Travel_Frequently</td>\n",
              "      <td>1005</td>\n",
              "      <td>Research &amp; Development</td>\n",
              "      <td>2</td>\n",
              "      <td>2</td>\n",
              "      <td>Life Sciences</td>\n",
              "      <td>1</td>\n",
              "      <td>6</td>\n",
              "      <td>...</td>\n",
              "      <td>3</td>\n",
              "      <td>80</td>\n",
              "      <td>0</td>\n",
              "      <td>8</td>\n",
              "      <td>2</td>\n",
              "      <td>2</td>\n",
              "      <td>7</td>\n",
              "      <td>7</td>\n",
              "      <td>3</td>\n",
              "      <td>6</td>\n",
              "    </tr>\n",
              "    <tr>\n",
              "      <th>6</th>\n",
              "      <td>59</td>\n",
              "      <td>No</td>\n",
              "      <td>Travel_Rarely</td>\n",
              "      <td>1324</td>\n",
              "      <td>Research &amp; Development</td>\n",
              "      <td>3</td>\n",
              "      <td>3</td>\n",
              "      <td>Medical</td>\n",
              "      <td>1</td>\n",
              "      <td>7</td>\n",
              "      <td>...</td>\n",
              "      <td>1</td>\n",
              "      <td>80</td>\n",
              "      <td>3</td>\n",
              "      <td>12</td>\n",
              "      <td>3</td>\n",
              "      <td>2</td>\n",
              "      <td>1</td>\n",
              "      <td>0</td>\n",
              "      <td>0</td>\n",
              "      <td>0</td>\n",
              "    </tr>\n",
              "    <tr>\n",
              "      <th>7</th>\n",
              "      <td>30</td>\n",
              "      <td>No</td>\n",
              "      <td>Travel_Rarely</td>\n",
              "      <td>1358</td>\n",
              "      <td>Research &amp; Development</td>\n",
              "      <td>24</td>\n",
              "      <td>1</td>\n",
              "      <td>Life Sciences</td>\n",
              "      <td>1</td>\n",
              "      <td>8</td>\n",
              "      <td>...</td>\n",
              "      <td>2</td>\n",
              "      <td>80</td>\n",
              "      <td>1</td>\n",
              "      <td>1</td>\n",
              "      <td>2</td>\n",
              "      <td>3</td>\n",
              "      <td>1</td>\n",
              "      <td>0</td>\n",
              "      <td>0</td>\n",
              "      <td>0</td>\n",
              "    </tr>\n",
              "    <tr>\n",
              "      <th>8</th>\n",
              "      <td>38</td>\n",
              "      <td>No</td>\n",
              "      <td>Travel_Frequently</td>\n",
              "      <td>216</td>\n",
              "      <td>Research &amp; Development</td>\n",
              "      <td>23</td>\n",
              "      <td>3</td>\n",
              "      <td>Life Sciences</td>\n",
              "      <td>1</td>\n",
              "      <td>9</td>\n",
              "      <td>...</td>\n",
              "      <td>2</td>\n",
              "      <td>80</td>\n",
              "      <td>0</td>\n",
              "      <td>10</td>\n",
              "      <td>2</td>\n",
              "      <td>3</td>\n",
              "      <td>9</td>\n",
              "      <td>7</td>\n",
              "      <td>1</td>\n",
              "      <td>8</td>\n",
              "    </tr>\n",
              "    <tr>\n",
              "      <th>9</th>\n",
              "      <td>36</td>\n",
              "      <td>No</td>\n",
              "      <td>Travel_Rarely</td>\n",
              "      <td>1299</td>\n",
              "      <td>Research &amp; Development</td>\n",
              "      <td>27</td>\n",
              "      <td>3</td>\n",
              "      <td>Medical</td>\n",
              "      <td>1</td>\n",
              "      <td>10</td>\n",
              "      <td>...</td>\n",
              "      <td>2</td>\n",
              "      <td>80</td>\n",
              "      <td>2</td>\n",
              "      <td>17</td>\n",
              "      <td>3</td>\n",
              "      <td>2</td>\n",
              "      <td>7</td>\n",
              "      <td>7</td>\n",
              "      <td>7</td>\n",
              "      <td>7</td>\n",
              "    </tr>\n",
              "  </tbody>\n",
              "</table>\n",
              "<p>10 rows × 35 columns</p>\n",
              "</div>"
            ],
            "text/plain": [
              "   Age Attrition     BusinessTravel  DailyRate              Department  \\\n",
              "0   41       Yes      Travel_Rarely       1102                   Sales   \n",
              "1   49        No  Travel_Frequently        279  Research & Development   \n",
              "2   37       Yes      Travel_Rarely       1373  Research & Development   \n",
              "3   33        No  Travel_Frequently       1392  Research & Development   \n",
              "4   27        No      Travel_Rarely        591  Research & Development   \n",
              "5   32        No  Travel_Frequently       1005  Research & Development   \n",
              "6   59        No      Travel_Rarely       1324  Research & Development   \n",
              "7   30        No      Travel_Rarely       1358  Research & Development   \n",
              "8   38        No  Travel_Frequently        216  Research & Development   \n",
              "9   36        No      Travel_Rarely       1299  Research & Development   \n",
              "\n",
              "   DistanceFromHome  Education EducationField  EmployeeCount  EmployeeNumber  \\\n",
              "0                 1          2  Life Sciences              1               1   \n",
              "1                 8          1  Life Sciences              1               2   \n",
              "2                 2          2          Other              1               3   \n",
              "3                 3          4  Life Sciences              1               4   \n",
              "4                 2          1        Medical              1               5   \n",
              "5                 2          2  Life Sciences              1               6   \n",
              "6                 3          3        Medical              1               7   \n",
              "7                24          1  Life Sciences              1               8   \n",
              "8                23          3  Life Sciences              1               9   \n",
              "9                27          3        Medical              1              10   \n",
              "\n",
              "   ...  RelationshipSatisfaction StandardHours  StockOptionLevel  \\\n",
              "0  ...                         1            80                 0   \n",
              "1  ...                         4            80                 1   \n",
              "2  ...                         2            80                 0   \n",
              "3  ...                         3            80                 0   \n",
              "4  ...                         4            80                 1   \n",
              "5  ...                         3            80                 0   \n",
              "6  ...                         1            80                 3   \n",
              "7  ...                         2            80                 1   \n",
              "8  ...                         2            80                 0   \n",
              "9  ...                         2            80                 2   \n",
              "\n",
              "   TotalWorkingYears  TrainingTimesLastYear WorkLifeBalance  YearsAtCompany  \\\n",
              "0                  8                      0               1               6   \n",
              "1                 10                      3               3              10   \n",
              "2                  7                      3               3               0   \n",
              "3                  8                      3               3               8   \n",
              "4                  6                      3               3               2   \n",
              "5                  8                      2               2               7   \n",
              "6                 12                      3               2               1   \n",
              "7                  1                      2               3               1   \n",
              "8                 10                      2               3               9   \n",
              "9                 17                      3               2               7   \n",
              "\n",
              "  YearsInCurrentRole  YearsSinceLastPromotion  YearsWithCurrManager  \n",
              "0                  4                        0                     5  \n",
              "1                  7                        1                     7  \n",
              "2                  0                        0                     0  \n",
              "3                  7                        3                     0  \n",
              "4                  2                        2                     2  \n",
              "5                  7                        3                     6  \n",
              "6                  0                        0                     0  \n",
              "7                  0                        0                     0  \n",
              "8                  7                        1                     8  \n",
              "9                  7                        7                     7  \n",
              "\n",
              "[10 rows x 35 columns]"
            ]
          },
          "execution_count": 4,
          "metadata": {},
          "output_type": "execute_result"
        }
      ]
    },
    {
      "cell_type": "code",
      "metadata": {
        "id": "1087bd9c",
        "outputId": "707c8896-d49b-4011-ed2d-b114c8939a1f"
      },
      "source": [
        "df.shape"
      ],
      "id": "1087bd9c",
      "execution_count": null,
      "outputs": [
        {
          "data": {
            "text/plain": [
              "(2940, 35)"
            ]
          },
          "execution_count": 5,
          "metadata": {},
          "output_type": "execute_result"
        }
      ]
    },
    {
      "cell_type": "code",
      "metadata": {
        "id": "b01a6860",
        "outputId": "cd855933-69d3-4d70-c2ae-4a5ee407e966"
      },
      "source": [
        "df.isnull().sum()"
      ],
      "id": "b01a6860",
      "execution_count": null,
      "outputs": [
        {
          "data": {
            "text/plain": [
              "Age                         0\n",
              "Attrition                   0\n",
              "BusinessTravel              0\n",
              "DailyRate                   0\n",
              "Department                  0\n",
              "DistanceFromHome            0\n",
              "Education                   0\n",
              "EducationField              0\n",
              "EmployeeCount               0\n",
              "EmployeeNumber              0\n",
              "EnvironmentSatisfaction     0\n",
              "Gender                      0\n",
              "HourlyRate                  0\n",
              "JobInvolvement              0\n",
              "JobLevel                    0\n",
              "JobRole                     0\n",
              "JobSatisfaction             0\n",
              "MaritalStatus               0\n",
              "MonthlyIncome               0\n",
              "MonthlyRate                 0\n",
              "NumCompaniesWorked          0\n",
              "Over18                      0\n",
              "OverTime                    0\n",
              "PercentSalaryHike           0\n",
              "PerformanceRating           0\n",
              "RelationshipSatisfaction    0\n",
              "StandardHours               0\n",
              "StockOptionLevel            0\n",
              "TotalWorkingYears           0\n",
              "TrainingTimesLastYear       0\n",
              "WorkLifeBalance             0\n",
              "YearsAtCompany              0\n",
              "YearsInCurrentRole          0\n",
              "YearsSinceLastPromotion     0\n",
              "YearsWithCurrManager        0\n",
              "dtype: int64"
            ]
          },
          "execution_count": 6,
          "metadata": {},
          "output_type": "execute_result"
        }
      ]
    },
    {
      "cell_type": "code",
      "metadata": {
        "id": "df999d69",
        "outputId": "9686729c-794b-441c-b813-e8f57ffe3091"
      },
      "source": [
        "df.dtypes"
      ],
      "id": "df999d69",
      "execution_count": null,
      "outputs": [
        {
          "data": {
            "text/plain": [
              "Age                          int64\n",
              "Attrition                   object\n",
              "BusinessTravel              object\n",
              "DailyRate                    int64\n",
              "Department                  object\n",
              "DistanceFromHome             int64\n",
              "Education                    int64\n",
              "EducationField              object\n",
              "EmployeeCount                int64\n",
              "EmployeeNumber               int64\n",
              "EnvironmentSatisfaction      int64\n",
              "Gender                      object\n",
              "HourlyRate                   int64\n",
              "JobInvolvement               int64\n",
              "JobLevel                     int64\n",
              "JobRole                     object\n",
              "JobSatisfaction              int64\n",
              "MaritalStatus               object\n",
              "MonthlyIncome                int64\n",
              "MonthlyRate                  int64\n",
              "NumCompaniesWorked           int64\n",
              "Over18                      object\n",
              "OverTime                    object\n",
              "PercentSalaryHike            int64\n",
              "PerformanceRating            int64\n",
              "RelationshipSatisfaction     int64\n",
              "StandardHours                int64\n",
              "StockOptionLevel             int64\n",
              "TotalWorkingYears            int64\n",
              "TrainingTimesLastYear        int64\n",
              "WorkLifeBalance              int64\n",
              "YearsAtCompany               int64\n",
              "YearsInCurrentRole           int64\n",
              "YearsSinceLastPromotion      int64\n",
              "YearsWithCurrManager         int64\n",
              "dtype: object"
            ]
          },
          "execution_count": 7,
          "metadata": {},
          "output_type": "execute_result"
        }
      ]
    },
    {
      "cell_type": "code",
      "metadata": {
        "id": "7278edfd",
        "outputId": "86aff294-c70a-42de-e07e-80f80fb052aa"
      },
      "source": [
        "df.select_dtypes(object)"
      ],
      "id": "7278edfd",
      "execution_count": null,
      "outputs": [
        {
          "data": {
            "text/html": [
              "<div>\n",
              "<style scoped>\n",
              "    .dataframe tbody tr th:only-of-type {\n",
              "        vertical-align: middle;\n",
              "    }\n",
              "\n",
              "    .dataframe tbody tr th {\n",
              "        vertical-align: top;\n",
              "    }\n",
              "\n",
              "    .dataframe thead th {\n",
              "        text-align: right;\n",
              "    }\n",
              "</style>\n",
              "<table border=\"1\" class=\"dataframe\">\n",
              "  <thead>\n",
              "    <tr style=\"text-align: right;\">\n",
              "      <th></th>\n",
              "      <th>Attrition</th>\n",
              "      <th>BusinessTravel</th>\n",
              "      <th>Department</th>\n",
              "      <th>EducationField</th>\n",
              "      <th>Gender</th>\n",
              "      <th>JobRole</th>\n",
              "      <th>MaritalStatus</th>\n",
              "      <th>Over18</th>\n",
              "      <th>OverTime</th>\n",
              "    </tr>\n",
              "  </thead>\n",
              "  <tbody>\n",
              "    <tr>\n",
              "      <th>0</th>\n",
              "      <td>Yes</td>\n",
              "      <td>Travel_Rarely</td>\n",
              "      <td>Sales</td>\n",
              "      <td>Life Sciences</td>\n",
              "      <td>Female</td>\n",
              "      <td>Sales Executive</td>\n",
              "      <td>Single</td>\n",
              "      <td>Y</td>\n",
              "      <td>Yes</td>\n",
              "    </tr>\n",
              "    <tr>\n",
              "      <th>1</th>\n",
              "      <td>No</td>\n",
              "      <td>Travel_Frequently</td>\n",
              "      <td>Research &amp; Development</td>\n",
              "      <td>Life Sciences</td>\n",
              "      <td>Male</td>\n",
              "      <td>Research Scientist</td>\n",
              "      <td>Married</td>\n",
              "      <td>Y</td>\n",
              "      <td>No</td>\n",
              "    </tr>\n",
              "    <tr>\n",
              "      <th>2</th>\n",
              "      <td>Yes</td>\n",
              "      <td>Travel_Rarely</td>\n",
              "      <td>Research &amp; Development</td>\n",
              "      <td>Other</td>\n",
              "      <td>Male</td>\n",
              "      <td>Laboratory Technician</td>\n",
              "      <td>Single</td>\n",
              "      <td>Y</td>\n",
              "      <td>Yes</td>\n",
              "    </tr>\n",
              "    <tr>\n",
              "      <th>3</th>\n",
              "      <td>No</td>\n",
              "      <td>Travel_Frequently</td>\n",
              "      <td>Research &amp; Development</td>\n",
              "      <td>Life Sciences</td>\n",
              "      <td>Female</td>\n",
              "      <td>Research Scientist</td>\n",
              "      <td>Married</td>\n",
              "      <td>Y</td>\n",
              "      <td>Yes</td>\n",
              "    </tr>\n",
              "    <tr>\n",
              "      <th>4</th>\n",
              "      <td>No</td>\n",
              "      <td>Travel_Rarely</td>\n",
              "      <td>Research &amp; Development</td>\n",
              "      <td>Medical</td>\n",
              "      <td>Male</td>\n",
              "      <td>Laboratory Technician</td>\n",
              "      <td>Married</td>\n",
              "      <td>Y</td>\n",
              "      <td>No</td>\n",
              "    </tr>\n",
              "    <tr>\n",
              "      <th>...</th>\n",
              "      <td>...</td>\n",
              "      <td>...</td>\n",
              "      <td>...</td>\n",
              "      <td>...</td>\n",
              "      <td>...</td>\n",
              "      <td>...</td>\n",
              "      <td>...</td>\n",
              "      <td>...</td>\n",
              "      <td>...</td>\n",
              "    </tr>\n",
              "    <tr>\n",
              "      <th>2935</th>\n",
              "      <td>No</td>\n",
              "      <td>Travel_Frequently</td>\n",
              "      <td>Research &amp; Development</td>\n",
              "      <td>Medical</td>\n",
              "      <td>Male</td>\n",
              "      <td>Laboratory Technician</td>\n",
              "      <td>Married</td>\n",
              "      <td>Y</td>\n",
              "      <td>No</td>\n",
              "    </tr>\n",
              "    <tr>\n",
              "      <th>2936</th>\n",
              "      <td>No</td>\n",
              "      <td>Travel_Rarely</td>\n",
              "      <td>Research &amp; Development</td>\n",
              "      <td>Medical</td>\n",
              "      <td>Male</td>\n",
              "      <td>Healthcare Representative</td>\n",
              "      <td>Married</td>\n",
              "      <td>Y</td>\n",
              "      <td>No</td>\n",
              "    </tr>\n",
              "    <tr>\n",
              "      <th>2937</th>\n",
              "      <td>No</td>\n",
              "      <td>Travel_Rarely</td>\n",
              "      <td>Research &amp; Development</td>\n",
              "      <td>Life Sciences</td>\n",
              "      <td>Male</td>\n",
              "      <td>Manufacturing Director</td>\n",
              "      <td>Married</td>\n",
              "      <td>Y</td>\n",
              "      <td>Yes</td>\n",
              "    </tr>\n",
              "    <tr>\n",
              "      <th>2938</th>\n",
              "      <td>No</td>\n",
              "      <td>Travel_Frequently</td>\n",
              "      <td>Sales</td>\n",
              "      <td>Medical</td>\n",
              "      <td>Male</td>\n",
              "      <td>Sales Executive</td>\n",
              "      <td>Married</td>\n",
              "      <td>Y</td>\n",
              "      <td>No</td>\n",
              "    </tr>\n",
              "    <tr>\n",
              "      <th>2939</th>\n",
              "      <td>No</td>\n",
              "      <td>Travel_Rarely</td>\n",
              "      <td>Research &amp; Development</td>\n",
              "      <td>Medical</td>\n",
              "      <td>Male</td>\n",
              "      <td>Laboratory Technician</td>\n",
              "      <td>Married</td>\n",
              "      <td>Y</td>\n",
              "      <td>No</td>\n",
              "    </tr>\n",
              "  </tbody>\n",
              "</table>\n",
              "<p>2940 rows × 9 columns</p>\n",
              "</div>"
            ],
            "text/plain": [
              "     Attrition     BusinessTravel              Department EducationField  \\\n",
              "0          Yes      Travel_Rarely                   Sales  Life Sciences   \n",
              "1           No  Travel_Frequently  Research & Development  Life Sciences   \n",
              "2          Yes      Travel_Rarely  Research & Development          Other   \n",
              "3           No  Travel_Frequently  Research & Development  Life Sciences   \n",
              "4           No      Travel_Rarely  Research & Development        Medical   \n",
              "...        ...                ...                     ...            ...   \n",
              "2935        No  Travel_Frequently  Research & Development        Medical   \n",
              "2936        No      Travel_Rarely  Research & Development        Medical   \n",
              "2937        No      Travel_Rarely  Research & Development  Life Sciences   \n",
              "2938        No  Travel_Frequently                   Sales        Medical   \n",
              "2939        No      Travel_Rarely  Research & Development        Medical   \n",
              "\n",
              "      Gender                    JobRole MaritalStatus Over18 OverTime  \n",
              "0     Female            Sales Executive        Single      Y      Yes  \n",
              "1       Male         Research Scientist       Married      Y       No  \n",
              "2       Male      Laboratory Technician        Single      Y      Yes  \n",
              "3     Female         Research Scientist       Married      Y      Yes  \n",
              "4       Male      Laboratory Technician       Married      Y       No  \n",
              "...      ...                        ...           ...    ...      ...  \n",
              "2935    Male      Laboratory Technician       Married      Y       No  \n",
              "2936    Male  Healthcare Representative       Married      Y       No  \n",
              "2937    Male     Manufacturing Director       Married      Y      Yes  \n",
              "2938    Male            Sales Executive       Married      Y       No  \n",
              "2939    Male      Laboratory Technician       Married      Y       No  \n",
              "\n",
              "[2940 rows x 9 columns]"
            ]
          },
          "execution_count": 8,
          "metadata": {},
          "output_type": "execute_result"
        }
      ]
    },
    {
      "cell_type": "code",
      "metadata": {
        "id": "4edecdb2",
        "outputId": "87ad2f3a-6964-477d-b3d8-175cce805db5"
      },
      "source": [
        "df['Attrition'].value_counts()"
      ],
      "id": "4edecdb2",
      "execution_count": null,
      "outputs": [
        {
          "data": {
            "text/plain": [
              "No     2466\n",
              "Yes     474\n",
              "Name: Attrition, dtype: int64"
            ]
          },
          "execution_count": 9,
          "metadata": {},
          "output_type": "execute_result"
        }
      ]
    },
    {
      "cell_type": "code",
      "metadata": {
        "id": "2183c2d9",
        "outputId": "85adecc6-26a2-4fb4-ba0d-1dbe5cab0f3c"
      },
      "source": [
        "sns.countplot(df[\"Attrition\"])"
      ],
      "id": "2183c2d9",
      "execution_count": null,
      "outputs": [
        {
          "name": "stderr",
          "output_type": "stream",
          "text": [
            "C:\\Users\\hp\\anaconda3\\lib\\site-packages\\seaborn\\_decorators.py:36: FutureWarning: Pass the following variable as a keyword arg: x. From version 0.12, the only valid positional argument will be `data`, and passing other arguments without an explicit keyword will result in an error or misinterpretation.\n",
            "  warnings.warn(\n"
          ]
        },
        {
          "data": {
            "text/plain": [
              "<AxesSubplot:xlabel='Attrition', ylabel='count'>"
            ]
          },
          "execution_count": 10,
          "metadata": {},
          "output_type": "execute_result"
        },
        {
          "data": {
            "image/png": "[encoded data removed]",
            "text/plain": [
              "<Figure size 432x288 with 1 Axes>"
            ]
          },
          "metadata": {
            "needs_background": "light"
          },
          "output_type": "display_data"
        }
      ]
    },
    {
      "cell_type": "code",
      "metadata": {
        "id": "7f019194",
        "outputId": "0dd750f8-af0a-47e1-e0d9-74bfed7e3e82"
      },
      "source": [
        "#calculate the attrition percentage\n",
        "print(df[\"Attrition\"].value_counts()['Yes']/df[\"Attrition\"].count()*100)"
      ],
      "id": "7f019194",
      "execution_count": null,
      "outputs": [
        {
          "name": "stdout",
          "output_type": "stream",
          "text": [
            "16.122448979591837\n"
          ]
        }
      ]
    },
    {
      "cell_type": "code",
      "metadata": {
        "scrolled": true,
        "id": "e56f6c8b",
        "outputId": "a0309a10-c065-4a6f-dee4-47e9568a2c62"
      },
      "source": [
        "#show the number of employees stayed and left by age\n",
        "plt.figure(figsize=(12,4))\n",
        "sns.countplot(x=\"Age\",hue=\"Attrition\",data=df,palette='colorblind')\n",
        "\n",
        "#From the below plot, at the age of 26-33 the attrition happened more."
      ],
      "id": "e56f6c8b",
      "execution_count": null,
      "outputs": [
        {
          "data": {
            "text/plain": [
              "<AxesSubplot:xlabel='Age', ylabel='count'>"
            ]
          },
          "execution_count": 11,
          "metadata": {},
          "output_type": "execute_result"
        },
        {
          "data": {
            "image/png": "[encoded data removed]",
            "text/plain": [
              "<Figure size 864x288 with 1 Axes>"
            ]
          },
          "metadata": {
            "needs_background": "light"
          },
          "output_type": "display_data"
        }
      ]
    },
    {
      "cell_type": "code",
      "metadata": {
        "scrolled": true,
        "id": "d993566b",
        "outputId": "ed9ae5ed-2f08-4dad-f1cc-08892a7aab4c"
      },
      "source": [
        "#checking which gender has attritted more\n",
        "sns.countplot(x= 'Gender', hue='Attrition',data=df)"
      ],
      "id": "d993566b",
      "execution_count": null,
      "outputs": [
        {
          "data": {
            "text/plain": [
              "<AxesSubplot:xlabel='Gender', ylabel='count'>"
            ]
          },
          "execution_count": 12,
          "metadata": {},
          "output_type": "execute_result"
        },
        {
          "data": {
            "image/png": "[encoded data removed]",
            "text/plain": [
              "<Figure size 432x288 with 1 Axes>"
            ]
          },
          "metadata": {
            "needs_background": "light"
          },
          "output_type": "display_data"
        }
      ]
    },
    {
      "cell_type": "code",
      "metadata": {
        "id": "337ec65f",
        "outputId": "54879c60-e106-4a0d-df2a-3319fed0035d"
      },
      "source": [
        "#Plotting the count by business travel\n",
        "plt.figure(figsize=(14,4))\n",
        "print(df['BusinessTravel'].value_counts())\n",
        "sns.countplot(x='BusinessTravel',data=df)\n",
        "plt.show()\n"
      ],
      "id": "337ec65f",
      "execution_count": null,
      "outputs": [
        {
          "name": "stdout",
          "output_type": "stream",
          "text": [
            "Travel_Rarely        2086\n",
            "Travel_Frequently     554\n",
            "Non-Travel            300\n",
            "Name: BusinessTravel, dtype: int64\n"
          ]
        },
        {
          "data": {
            "image/png": "[encoded data removed]",
            "text/plain": [
              "<Figure size 1008x288 with 1 Axes>"
            ]
          },
          "metadata": {
            "needs_background": "light"
          },
          "output_type": "display_data"
        }
      ]
    },
    {
      "cell_type": "code",
      "metadata": {
        "id": "d84da587",
        "outputId": "c90e6562-3417-4254-f33a-48fd32ddf456"
      },
      "source": [
        "df['Department'].value_counts()"
      ],
      "id": "d84da587",
      "execution_count": null,
      "outputs": [
        {
          "data": {
            "text/plain": [
              "Research & Development    1922\n",
              "Sales                      892\n",
              "Human Resources            126\n",
              "Name: Department, dtype: int64"
            ]
          },
          "execution_count": 59,
          "metadata": {},
          "output_type": "execute_result"
        }
      ]
    },
    {
      "cell_type": "code",
      "metadata": {
        "id": "f09fd8bc",
        "outputId": "b258c535-b2f1-4f0c-e46f-083b54d0ccf7"
      },
      "source": [
        "#Getting the count of Business travel based on Department\n",
        "#HR\n",
        "departmentgrp = df.groupby(by = 'Department')\n",
        "\n",
        "df1 = departmentgrp.get_group('Human Resources')['BusinessTravel'].value_counts()\n",
        "df1 = pd.DataFrame(df1)\n",
        "df1 = df1.reset_index()\n",
        "df1['Department'] = 'HR'\n",
        "df1"
      ],
      "id": "f09fd8bc",
      "execution_count": null,
      "outputs": [
        {
          "data": {
            "text/html": [
              "<div>\n",
              "<style scoped>\n",
              "    .dataframe tbody tr th:only-of-type {\n",
              "        vertical-align: middle;\n",
              "    }\n",
              "\n",
              "    .dataframe tbody tr th {\n",
              "        vertical-align: top;\n",
              "    }\n",
              "\n",
              "    .dataframe thead th {\n",
              "        text-align: right;\n",
              "    }\n",
              "</style>\n",
              "<table border=\"1\" class=\"dataframe\">\n",
              "  <thead>\n",
              "    <tr style=\"text-align: right;\">\n",
              "      <th></th>\n",
              "      <th>index</th>\n",
              "      <th>BusinessTravel</th>\n",
              "      <th>Department</th>\n",
              "    </tr>\n",
              "  </thead>\n",
              "  <tbody>\n",
              "    <tr>\n",
              "      <th>0</th>\n",
              "      <td>Travel_Rarely</td>\n",
              "      <td>92</td>\n",
              "      <td>HR</td>\n",
              "    </tr>\n",
              "    <tr>\n",
              "      <th>1</th>\n",
              "      <td>Travel_Frequently</td>\n",
              "      <td>22</td>\n",
              "      <td>HR</td>\n",
              "    </tr>\n",
              "    <tr>\n",
              "      <th>2</th>\n",
              "      <td>Non-Travel</td>\n",
              "      <td>12</td>\n",
              "      <td>HR</td>\n",
              "    </tr>\n",
              "  </tbody>\n",
              "</table>\n",
              "</div>"
            ],
            "text/plain": [
              "               index  BusinessTravel Department\n",
              "0      Travel_Rarely              92         HR\n",
              "1  Travel_Frequently              22         HR\n",
              "2         Non-Travel              12         HR"
            ]
          },
          "execution_count": 57,
          "metadata": {},
          "output_type": "execute_result"
        }
      ]
    },
    {
      "cell_type": "code",
      "metadata": {
        "id": "066be9e1",
        "outputId": "547ab823-4353-4baa-fab6-46ef954f5eea"
      },
      "source": [
        "# R&D\n",
        "\n",
        "df2 = departmentgrp.get_group('Research & Development')['BusinessTravel'].value_counts()\n",
        "df2 = df2.to_frame().reset_index()\n",
        "df2['Department'] = 'R&D'\n",
        "#df2.loc[df2['Department'] != 'HR', 'Department'] = 'R&D' \n",
        "df3 = df1.append(df2,ignore_index = True)\n",
        "df3"
      ],
      "id": "066be9e1",
      "execution_count": null,
      "outputs": [
        {
          "data": {
            "text/html": [
              "<div>\n",
              "<style scoped>\n",
              "    .dataframe tbody tr th:only-of-type {\n",
              "        vertical-align: middle;\n",
              "    }\n",
              "\n",
              "    .dataframe tbody tr th {\n",
              "        vertical-align: top;\n",
              "    }\n",
              "\n",
              "    .dataframe thead th {\n",
              "        text-align: right;\n",
              "    }\n",
              "</style>\n",
              "<table border=\"1\" class=\"dataframe\">\n",
              "  <thead>\n",
              "    <tr style=\"text-align: right;\">\n",
              "      <th></th>\n",
              "      <th>index</th>\n",
              "      <th>BusinessTravel</th>\n",
              "      <th>Department</th>\n",
              "    </tr>\n",
              "  </thead>\n",
              "  <tbody>\n",
              "    <tr>\n",
              "      <th>0</th>\n",
              "      <td>Travel_Rarely</td>\n",
              "      <td>92</td>\n",
              "      <td>HR</td>\n",
              "    </tr>\n",
              "    <tr>\n",
              "      <th>1</th>\n",
              "      <td>Travel_Frequently</td>\n",
              "      <td>22</td>\n",
              "      <td>HR</td>\n",
              "    </tr>\n",
              "    <tr>\n",
              "      <th>2</th>\n",
              "      <td>Non-Travel</td>\n",
              "      <td>12</td>\n",
              "      <td>HR</td>\n",
              "    </tr>\n",
              "    <tr>\n",
              "      <th>3</th>\n",
              "      <td>Travel_Rarely</td>\n",
              "      <td>1364</td>\n",
              "      <td>R&amp;D</td>\n",
              "    </tr>\n",
              "    <tr>\n",
              "      <th>4</th>\n",
              "      <td>Travel_Frequently</td>\n",
              "      <td>364</td>\n",
              "      <td>R&amp;D</td>\n",
              "    </tr>\n",
              "    <tr>\n",
              "      <th>5</th>\n",
              "      <td>Non-Travel</td>\n",
              "      <td>194</td>\n",
              "      <td>R&amp;D</td>\n",
              "    </tr>\n",
              "  </tbody>\n",
              "</table>\n",
              "</div>"
            ],
            "text/plain": [
              "               index  BusinessTravel Department\n",
              "0      Travel_Rarely              92         HR\n",
              "1  Travel_Frequently              22         HR\n",
              "2         Non-Travel              12         HR\n",
              "3      Travel_Rarely            1364        R&D\n",
              "4  Travel_Frequently             364        R&D\n",
              "5         Non-Travel             194        R&D"
            ]
          },
          "execution_count": 64,
          "metadata": {},
          "output_type": "execute_result"
        }
      ]
    },
    {
      "cell_type": "code",
      "metadata": {
        "id": "f62f7d77",
        "outputId": "b7096821-38a6-434a-dc8a-0eb60cfa28eb"
      },
      "source": [
        "#Sales\n",
        "df4 = departmentgrp.get_group('Sales')['BusinessTravel'].value_counts()\n",
        "df4 = df4.to_frame().reset_index()\n",
        "df4['Department'] = 'Sales'\n",
        "df5 = df3.append(df4,ignore_index = True)\n",
        "df5\n"
      ],
      "id": "f62f7d77",
      "execution_count": null,
      "outputs": [
        {
          "data": {
            "text/html": [
              "<div>\n",
              "<style scoped>\n",
              "    .dataframe tbody tr th:only-of-type {\n",
              "        vertical-align: middle;\n",
              "    }\n",
              "\n",
              "    .dataframe tbody tr th {\n",
              "        vertical-align: top;\n",
              "    }\n",
              "\n",
              "    .dataframe thead th {\n",
              "        text-align: right;\n",
              "    }\n",
              "</style>\n",
              "<table border=\"1\" class=\"dataframe\">\n",
              "  <thead>\n",
              "    <tr style=\"text-align: right;\">\n",
              "      <th></th>\n",
              "      <th>index</th>\n",
              "      <th>BusinessTravel</th>\n",
              "      <th>Department</th>\n",
              "    </tr>\n",
              "  </thead>\n",
              "  <tbody>\n",
              "    <tr>\n",
              "      <th>0</th>\n",
              "      <td>Travel_Rarely</td>\n",
              "      <td>92</td>\n",
              "      <td>HR</td>\n",
              "    </tr>\n",
              "    <tr>\n",
              "      <th>1</th>\n",
              "      <td>Travel_Frequently</td>\n",
              "      <td>22</td>\n",
              "      <td>HR</td>\n",
              "    </tr>\n",
              "    <tr>\n",
              "      <th>2</th>\n",
              "      <td>Non-Travel</td>\n",
              "      <td>12</td>\n",
              "      <td>HR</td>\n",
              "    </tr>\n",
              "    <tr>\n",
              "      <th>3</th>\n",
              "      <td>Travel_Rarely</td>\n",
              "      <td>1364</td>\n",
              "      <td>R&amp;D</td>\n",
              "    </tr>\n",
              "    <tr>\n",
              "      <th>4</th>\n",
              "      <td>Travel_Frequently</td>\n",
              "      <td>364</td>\n",
              "      <td>R&amp;D</td>\n",
              "    </tr>\n",
              "    <tr>\n",
              "      <th>5</th>\n",
              "      <td>Non-Travel</td>\n",
              "      <td>194</td>\n",
              "      <td>R&amp;D</td>\n",
              "    </tr>\n",
              "    <tr>\n",
              "      <th>6</th>\n",
              "      <td>Travel_Rarely</td>\n",
              "      <td>630</td>\n",
              "      <td>Sales</td>\n",
              "    </tr>\n",
              "    <tr>\n",
              "      <th>7</th>\n",
              "      <td>Travel_Frequently</td>\n",
              "      <td>168</td>\n",
              "      <td>Sales</td>\n",
              "    </tr>\n",
              "    <tr>\n",
              "      <th>8</th>\n",
              "      <td>Non-Travel</td>\n",
              "      <td>94</td>\n",
              "      <td>Sales</td>\n",
              "    </tr>\n",
              "  </tbody>\n",
              "</table>\n",
              "</div>"
            ],
            "text/plain": [
              "               index  BusinessTravel Department\n",
              "0      Travel_Rarely              92         HR\n",
              "1  Travel_Frequently              22         HR\n",
              "2         Non-Travel              12         HR\n",
              "3      Travel_Rarely            1364        R&D\n",
              "4  Travel_Frequently             364        R&D\n",
              "5         Non-Travel             194        R&D\n",
              "6      Travel_Rarely             630      Sales\n",
              "7  Travel_Frequently             168      Sales\n",
              "8         Non-Travel              94      Sales"
            ]
          },
          "execution_count": 66,
          "metadata": {},
          "output_type": "execute_result"
        }
      ]
    },
    {
      "cell_type": "code",
      "metadata": {
        "id": "f953a3d6",
        "outputId": "08527bd7-8e80-4141-a2cb-92fa4511b225"
      },
      "source": [
        "plt.figure(figsize = (16,6))\n",
        "sns.barplot(x= 'Department', y = 'BusinessTravel' , data = df5, hue = 'index')\n",
        "plt.show()"
      ],
      "id": "f953a3d6",
      "execution_count": null,
      "outputs": [
        {
          "data": {
            "image/png": "[encoded data removed]",
            "text/plain": [
              "<Figure size 1152x432 with 1 Axes>"
            ]
          },
          "metadata": {
            "needs_background": "light"
          },
          "output_type": "display_data"
        }
      ]
    },
    {
      "cell_type": "code",
      "metadata": {
        "id": "f3534985",
        "outputId": "a2d670b0-85b7-49bd-9d9e-2112898a0b2c"
      },
      "source": [
        "#Calculate attrition for each department\n",
        "#HR\n",
        "attrbyhr = departmentgrp.get_group('Human Resources')['Attrition'].value_counts()\n",
        "\n",
        "#R&D Department\n",
        "attrbyRnD = departmentgrp.get_group('Research & Development')['Attrition'].value_counts()\n",
        "\n",
        "#Sales\n",
        "attrbysales = departmentgrp.get_group('Sales')['Attrition'].value_counts()\n",
        "\n",
        "attrbydept = pd.DataFrame(columns = ['Department','Attrition'])\n",
        "\n",
        "attrbydept.loc[len(attrbydept)] = [\"Human Resources\",attrbyhr['Yes']/(attrbyhr.sum())*100]\n",
        "attrbydept.loc[len(attrbydept)] = [\"R&D\",attrbyRnD['Yes']/(attrbyRnD.sum())*100]\n",
        "attrbydept.loc[len(attrbydept)] = [\"Sales\",attrbysales['Yes']/(attrbysales.sum())*100]\n",
        "\n",
        "attrbydept\n"
      ],
      "id": "f3534985",
      "execution_count": null,
      "outputs": [
        {
          "data": {
            "text/html": [
              "<div>\n",
              "<style scoped>\n",
              "    .dataframe tbody tr th:only-of-type {\n",
              "        vertical-align: middle;\n",
              "    }\n",
              "\n",
              "    .dataframe tbody tr th {\n",
              "        vertical-align: top;\n",
              "    }\n",
              "\n",
              "    .dataframe thead th {\n",
              "        text-align: right;\n",
              "    }\n",
              "</style>\n",
              "<table border=\"1\" class=\"dataframe\">\n",
              "  <thead>\n",
              "    <tr style=\"text-align: right;\">\n",
              "      <th></th>\n",
              "      <th>Department</th>\n",
              "      <th>Attrition</th>\n",
              "    </tr>\n",
              "  </thead>\n",
              "  <tbody>\n",
              "    <tr>\n",
              "      <th>0</th>\n",
              "      <td>Human Resources</td>\n",
              "      <td>19.047619</td>\n",
              "    </tr>\n",
              "    <tr>\n",
              "      <th>1</th>\n",
              "      <td>R&amp;D</td>\n",
              "      <td>13.839750</td>\n",
              "    </tr>\n",
              "    <tr>\n",
              "      <th>2</th>\n",
              "      <td>Sales</td>\n",
              "      <td>20.627803</td>\n",
              "    </tr>\n",
              "  </tbody>\n",
              "</table>\n",
              "</div>"
            ],
            "text/plain": [
              "        Department  Attrition\n",
              "0  Human Resources  19.047619\n",
              "1              R&D  13.839750\n",
              "2            Sales  20.627803"
            ]
          },
          "execution_count": 82,
          "metadata": {},
          "output_type": "execute_result"
        }
      ]
    },
    {
      "cell_type": "code",
      "metadata": {
        "id": "51271197",
        "outputId": "6e01c74e-cca4-4a66-e787-02b1472f2a0d"
      },
      "source": [
        "#Plotting Attrition% for each department\n",
        "plt.figure(figsize = (12,4))\n",
        "sns.barplot(x= 'Department', y = 'Attrition' , data = attrbydept, hue = 'Department')\n",
        "plt.show()"
      ],
      "id": "51271197",
      "execution_count": null,
      "outputs": [
        {
          "data": {
            "image/png": "[encoded data removed]",
            "text/plain": [
              "<Figure size 864x288 with 1 Axes>"
            ]
          },
          "metadata": {
            "needs_background": "light"
          },
          "output_type": "display_data"
        }
      ]
    },
    {
      "cell_type": "code",
      "metadata": {
        "id": "40e3a265"
      },
      "source": [
        "data = df.copy()"
      ],
      "id": "40e3a265",
      "execution_count": null,
      "outputs": []
    },
    {
      "cell_type": "code",
      "metadata": {
        "id": "0081f670",
        "outputId": "bb970b73-1d2a-44cc-a214-bb95ee47d772"
      },
      "source": [
        "#getting the unique values of each column\n",
        "{column:len(data[column].unique()) for column in data.columns}"
      ],
      "id": "0081f670",
      "execution_count": null,
      "outputs": [
        {
          "data": {
            "text/plain": [
              "{'Age': 43,\n",
              " 'Attrition': 2,\n",
              " 'BusinessTravel': 3,\n",
              " 'DailyRate': 886,\n",
              " 'Department': 3,\n",
              " 'DistanceFromHome': 29,\n",
              " 'Education': 5,\n",
              " 'EducationField': 6,\n",
              " 'EmployeeCount': 1,\n",
              " 'EmployeeNumber': 2940,\n",
              " 'EnvironmentSatisfaction': 4,\n",
              " 'Gender': 2,\n",
              " 'HourlyRate': 71,\n",
              " 'JobInvolvement': 4,\n",
              " 'JobLevel': 5,\n",
              " 'JobRole': 9,\n",
              " 'JobSatisfaction': 4,\n",
              " 'MaritalStatus': 3,\n",
              " 'MonthlyIncome': 1349,\n",
              " 'MonthlyRate': 1427,\n",
              " 'NumCompaniesWorked': 10,\n",
              " 'Over18': 1,\n",
              " 'OverTime': 2,\n",
              " 'PercentSalaryHike': 15,\n",
              " 'PerformanceRating': 2,\n",
              " 'RelationshipSatisfaction': 4,\n",
              " 'StandardHours': 1,\n",
              " 'StockOptionLevel': 4,\n",
              " 'TotalWorkingYears': 40,\n",
              " 'TrainingTimesLastYear': 7,\n",
              " 'WorkLifeBalance': 4,\n",
              " 'YearsAtCompany': 37,\n",
              " 'YearsInCurrentRole': 19,\n",
              " 'YearsSinceLastPromotion': 16,\n",
              " 'YearsWithCurrManager': 18}"
            ]
          },
          "execution_count": 14,
          "metadata": {},
          "output_type": "execute_result"
        }
      ]
    },
    {
      "cell_type": "code",
      "metadata": {
        "id": "cb0aaeb8",
        "outputId": "bfc48c07-ab50-482f-ef2a-7b5d015466c5"
      },
      "source": [
        "#Getting unique values and total count for each column\n",
        "for column in  data.columns:\n",
        "    if data[column].dtype == object:\n",
        "        print(str(column)+':'+str((data[column].unique())))\n",
        "        print(data[column].value_counts)\n",
        "        print('--------------------------------------')"
      ],
      "id": "cb0aaeb8",
      "execution_count": null,
      "outputs": [
        {
          "name": "stdout",
          "output_type": "stream",
          "text": [
            "Attrition:['Yes' 'No']\n",
            "<bound method IndexOpsMixin.value_counts of 0       Yes\n",
            "1        No\n",
            "2       Yes\n",
            "3        No\n",
            "4        No\n",
            "       ... \n",
            "2935     No\n",
            "2936     No\n",
            "2937     No\n",
            "2938     No\n",
            "2939     No\n",
            "Name: Attrition, Length: 2940, dtype: object>\n",
            "--------------------------------------\n",
            "BusinessTravel:['Travel_Rarely' 'Travel_Frequently' 'Non-Travel']\n",
            "<bound method IndexOpsMixin.value_counts of 0           Travel_Rarely\n",
            "1       Travel_Frequently\n",
            "2           Travel_Rarely\n",
            "3       Travel_Frequently\n",
            "4           Travel_Rarely\n",
            "              ...        \n",
            "2935    Travel_Frequently\n",
            "2936        Travel_Rarely\n",
            "2937        Travel_Rarely\n",
            "2938    Travel_Frequently\n",
            "2939        Travel_Rarely\n",
            "Name: BusinessTravel, Length: 2940, dtype: object>\n",
            "--------------------------------------\n",
            "Department:['Sales' 'Research & Development' 'Human Resources']\n",
            "<bound method IndexOpsMixin.value_counts of 0                        Sales\n",
            "1       Research & Development\n",
            "2       Research & Development\n",
            "3       Research & Development\n",
            "4       Research & Development\n",
            "                 ...          \n",
            "2935    Research & Development\n",
            "2936    Research & Development\n",
            "2937    Research & Development\n",
            "2938                     Sales\n",
            "2939    Research & Development\n",
            "Name: Department, Length: 2940, dtype: object>\n",
            "--------------------------------------\n",
            "EducationField:['Life Sciences' 'Other' 'Medical' 'Marketing' 'Technical Degree'\n",
            " 'Human Resources']\n",
            "<bound method IndexOpsMixin.value_counts of 0       Life Sciences\n",
            "1       Life Sciences\n",
            "2               Other\n",
            "3       Life Sciences\n",
            "4             Medical\n",
            "            ...      \n",
            "2935          Medical\n",
            "2936          Medical\n",
            "2937    Life Sciences\n",
            "2938          Medical\n",
            "2939          Medical\n",
            "Name: EducationField, Length: 2940, dtype: object>\n",
            "--------------------------------------\n",
            "Gender:['Female' 'Male']\n",
            "<bound method IndexOpsMixin.value_counts of 0       Female\n",
            "1         Male\n",
            "2         Male\n",
            "3       Female\n",
            "4         Male\n",
            "         ...  \n",
            "2935      Male\n",
            "2936      Male\n",
            "2937      Male\n",
            "2938      Male\n",
            "2939      Male\n",
            "Name: Gender, Length: 2940, dtype: object>\n",
            "--------------------------------------\n",
            "JobRole:['Sales Executive' 'Research Scientist' 'Laboratory Technician'\n",
            " 'Manufacturing Director' 'Healthcare Representative' 'Manager'\n",
            " 'Sales Representative' 'Research Director' 'Human Resources']\n",
            "<bound method IndexOpsMixin.value_counts of 0                 Sales Executive\n",
            "1              Research Scientist\n",
            "2           Laboratory Technician\n",
            "3              Research Scientist\n",
            "4           Laboratory Technician\n",
            "                  ...            \n",
            "2935        Laboratory Technician\n",
            "2936    Healthcare Representative\n",
            "2937       Manufacturing Director\n",
            "2938              Sales Executive\n",
            "2939        Laboratory Technician\n",
            "Name: JobRole, Length: 2940, dtype: object>\n",
            "--------------------------------------\n",
            "MaritalStatus:['Single' 'Married' 'Divorced']\n",
            "<bound method IndexOpsMixin.value_counts of 0        Single\n",
            "1       Married\n",
            "2        Single\n",
            "3       Married\n",
            "4       Married\n",
            "         ...   \n",
            "2935    Married\n",
            "2936    Married\n",
            "2937    Married\n",
            "2938    Married\n",
            "2939    Married\n",
            "Name: MaritalStatus, Length: 2940, dtype: object>\n",
            "--------------------------------------\n",
            "Over18:['Y']\n",
            "<bound method IndexOpsMixin.value_counts of 0       Y\n",
            "1       Y\n",
            "2       Y\n",
            "3       Y\n",
            "4       Y\n",
            "       ..\n",
            "2935    Y\n",
            "2936    Y\n",
            "2937    Y\n",
            "2938    Y\n",
            "2939    Y\n",
            "Name: Over18, Length: 2940, dtype: object>\n",
            "--------------------------------------\n",
            "OverTime:['Yes' 'No']\n",
            "<bound method IndexOpsMixin.value_counts of 0       Yes\n",
            "1        No\n",
            "2       Yes\n",
            "3       Yes\n",
            "4        No\n",
            "       ... \n",
            "2935     No\n",
            "2936     No\n",
            "2937    Yes\n",
            "2938     No\n",
            "2939     No\n",
            "Name: OverTime, Length: 2940, dtype: object>\n",
            "--------------------------------------\n"
          ]
        }
      ]
    },
    {
      "cell_type": "code",
      "metadata": {
        "id": "948b990c",
        "outputId": "e7cc1ee6-ed49-49d0-ad3b-5058551949d1"
      },
      "source": [
        "#Remove unnecessary columns,\n",
        "data1 = data.drop(['EmployeeCount','Over18','EmployeeNumber','StandardHours'],axis=1)\n",
        "data1.head()\n"
      ],
      "id": "948b990c",
      "execution_count": null,
      "outputs": [
        {
          "data": {
            "text/html": [
              "<div>\n",
              "<style scoped>\n",
              "    .dataframe tbody tr th:only-of-type {\n",
              "        vertical-align: middle;\n",
              "    }\n",
              "\n",
              "    .dataframe tbody tr th {\n",
              "        vertical-align: top;\n",
              "    }\n",
              "\n",
              "    .dataframe thead th {\n",
              "        text-align: right;\n",
              "    }\n",
              "</style>\n",
              "<table border=\"1\" class=\"dataframe\">\n",
              "  <thead>\n",
              "    <tr style=\"text-align: right;\">\n",
              "      <th></th>\n",
              "      <th>Age</th>\n",
              "      <th>Attrition</th>\n",
              "      <th>BusinessTravel</th>\n",
              "      <th>DailyRate</th>\n",
              "      <th>Department</th>\n",
              "      <th>DistanceFromHome</th>\n",
              "      <th>Education</th>\n",
              "      <th>EducationField</th>\n",
              "      <th>EnvironmentSatisfaction</th>\n",
              "      <th>Gender</th>\n",
              "      <th>...</th>\n",
              "      <th>PerformanceRating</th>\n",
              "      <th>RelationshipSatisfaction</th>\n",
              "      <th>StockOptionLevel</th>\n",
              "      <th>TotalWorkingYears</th>\n",
              "      <th>TrainingTimesLastYear</th>\n",
              "      <th>WorkLifeBalance</th>\n",
              "      <th>YearsAtCompany</th>\n",
              "      <th>YearsInCurrentRole</th>\n",
              "      <th>YearsSinceLastPromotion</th>\n",
              "      <th>YearsWithCurrManager</th>\n",
              "    </tr>\n",
              "  </thead>\n",
              "  <tbody>\n",
              "    <tr>\n",
              "      <th>0</th>\n",
              "      <td>41</td>\n",
              "      <td>Yes</td>\n",
              "      <td>Travel_Rarely</td>\n",
              "      <td>1102</td>\n",
              "      <td>Sales</td>\n",
              "      <td>1</td>\n",
              "      <td>2</td>\n",
              "      <td>Life Sciences</td>\n",
              "      <td>2</td>\n",
              "      <td>Female</td>\n",
              "      <td>...</td>\n",
              "      <td>3</td>\n",
              "      <td>1</td>\n",
              "      <td>0</td>\n",
              "      <td>8</td>\n",
              "      <td>0</td>\n",
              "      <td>1</td>\n",
              "      <td>6</td>\n",
              "      <td>4</td>\n",
              "      <td>0</td>\n",
              "      <td>5</td>\n",
              "    </tr>\n",
              "    <tr>\n",
              "      <th>1</th>\n",
              "      <td>49</td>\n",
              "      <td>No</td>\n",
              "      <td>Travel_Frequently</td>\n",
              "      <td>279</td>\n",
              "      <td>Research &amp; Development</td>\n",
              "      <td>8</td>\n",
              "      <td>1</td>\n",
              "      <td>Life Sciences</td>\n",
              "      <td>3</td>\n",
              "      <td>Male</td>\n",
              "      <td>...</td>\n",
              "      <td>4</td>\n",
              "      <td>4</td>\n",
              "      <td>1</td>\n",
              "      <td>10</td>\n",
              "      <td>3</td>\n",
              "      <td>3</td>\n",
              "      <td>10</td>\n",
              "      <td>7</td>\n",
              "      <td>1</td>\n",
              "      <td>7</td>\n",
              "    </tr>\n",
              "    <tr>\n",
              "      <th>2</th>\n",
              "      <td>37</td>\n",
              "      <td>Yes</td>\n",
              "      <td>Travel_Rarely</td>\n",
              "      <td>1373</td>\n",
              "      <td>Research &amp; Development</td>\n",
              "      <td>2</td>\n",
              "      <td>2</td>\n",
              "      <td>Other</td>\n",
              "      <td>4</td>\n",
              "      <td>Male</td>\n",
              "      <td>...</td>\n",
              "      <td>3</td>\n",
              "      <td>2</td>\n",
              "      <td>0</td>\n",
              "      <td>7</td>\n",
              "      <td>3</td>\n",
              "      <td>3</td>\n",
              "      <td>0</td>\n",
              "      <td>0</td>\n",
              "      <td>0</td>\n",
              "      <td>0</td>\n",
              "    </tr>\n",
              "    <tr>\n",
              "      <th>3</th>\n",
              "      <td>33</td>\n",
              "      <td>No</td>\n",
              "      <td>Travel_Frequently</td>\n",
              "      <td>1392</td>\n",
              "      <td>Research &amp; Development</td>\n",
              "      <td>3</td>\n",
              "      <td>4</td>\n",
              "      <td>Life Sciences</td>\n",
              "      <td>4</td>\n",
              "      <td>Female</td>\n",
              "      <td>...</td>\n",
              "      <td>3</td>\n",
              "      <td>3</td>\n",
              "      <td>0</td>\n",
              "      <td>8</td>\n",
              "      <td>3</td>\n",
              "      <td>3</td>\n",
              "      <td>8</td>\n",
              "      <td>7</td>\n",
              "      <td>3</td>\n",
              "      <td>0</td>\n",
              "    </tr>\n",
              "    <tr>\n",
              "      <th>4</th>\n",
              "      <td>27</td>\n",
              "      <td>No</td>\n",
              "      <td>Travel_Rarely</td>\n",
              "      <td>591</td>\n",
              "      <td>Research &amp; Development</td>\n",
              "      <td>2</td>\n",
              "      <td>1</td>\n",
              "      <td>Medical</td>\n",
              "      <td>1</td>\n",
              "      <td>Male</td>\n",
              "      <td>...</td>\n",
              "      <td>3</td>\n",
              "      <td>4</td>\n",
              "      <td>1</td>\n",
              "      <td>6</td>\n",
              "      <td>3</td>\n",
              "      <td>3</td>\n",
              "      <td>2</td>\n",
              "      <td>2</td>\n",
              "      <td>2</td>\n",
              "      <td>2</td>\n",
              "    </tr>\n",
              "  </tbody>\n",
              "</table>\n",
              "<p>5 rows × 31 columns</p>\n",
              "</div>"
            ],
            "text/plain": [
              "   Age Attrition     BusinessTravel  DailyRate              Department  \\\n",
              "0   41       Yes      Travel_Rarely       1102                   Sales   \n",
              "1   49        No  Travel_Frequently        279  Research & Development   \n",
              "2   37       Yes      Travel_Rarely       1373  Research & Development   \n",
              "3   33        No  Travel_Frequently       1392  Research & Development   \n",
              "4   27        No      Travel_Rarely        591  Research & Development   \n",
              "\n",
              "   DistanceFromHome  Education EducationField  EnvironmentSatisfaction  \\\n",
              "0                 1          2  Life Sciences                        2   \n",
              "1                 8          1  Life Sciences                        3   \n",
              "2                 2          2          Other                        4   \n",
              "3                 3          4  Life Sciences                        4   \n",
              "4                 2          1        Medical                        1   \n",
              "\n",
              "   Gender  ...  PerformanceRating  RelationshipSatisfaction  StockOptionLevel  \\\n",
              "0  Female  ...                  3                         1                 0   \n",
              "1    Male  ...                  4                         4                 1   \n",
              "2    Male  ...                  3                         2                 0   \n",
              "3  Female  ...                  3                         3                 0   \n",
              "4    Male  ...                  3                         4                 1   \n",
              "\n",
              "  TotalWorkingYears  TrainingTimesLastYear WorkLifeBalance  YearsAtCompany  \\\n",
              "0                 8                      0               1               6   \n",
              "1                10                      3               3              10   \n",
              "2                 7                      3               3               0   \n",
              "3                 8                      3               3               8   \n",
              "4                 6                      3               3               2   \n",
              "\n",
              "   YearsInCurrentRole  YearsSinceLastPromotion YearsWithCurrManager  \n",
              "0                   4                        0                    5  \n",
              "1                   7                        1                    7  \n",
              "2                   0                        0                    0  \n",
              "3                   7                        3                    0  \n",
              "4                   2                        2                    2  \n",
              "\n",
              "[5 rows x 31 columns]"
            ]
          },
          "execution_count": 16,
          "metadata": {},
          "output_type": "execute_result"
        }
      ]
    },
    {
      "cell_type": "code",
      "metadata": {
        "id": "6ff96c9b",
        "outputId": "dfb68aca-1d68-4ab0-e241-70dab0486bb1"
      },
      "source": [
        "#Visualize the correlation\n",
        "plt.figure(figsize=(16,8))\n",
        "sns.heatmap(data1.corr(),annot=True,fmt='.0%')"
      ],
      "id": "6ff96c9b",
      "execution_count": null,
      "outputs": [
        {
          "data": {
            "text/plain": [
              "<AxesSubplot:>"
            ]
          },
          "execution_count": 89,
          "metadata": {},
          "output_type": "execute_result"
        },
        {
          "data": {
            "image/png": "[encoded data removed]",
            "text/plain": [
              "<Figure size 1152x576 with 2 Axes>"
            ]
          },
          "metadata": {
            "needs_background": "light"
          },
          "output_type": "display_data"
        }
      ]
    },
    {
      "cell_type": "code",
      "metadata": {
        "id": "61ae8f32",
        "outputId": "c7b03f93-b7e9-4899-dff5-9bc283c59ec6"
      },
      "source": [
        "data1.select_dtypes(object)"
      ],
      "id": "61ae8f32",
      "execution_count": null,
      "outputs": [
        {
          "data": {
            "text/html": [
              "<div>\n",
              "<style scoped>\n",
              "    .dataframe tbody tr th:only-of-type {\n",
              "        vertical-align: middle;\n",
              "    }\n",
              "\n",
              "    .dataframe tbody tr th {\n",
              "        vertical-align: top;\n",
              "    }\n",
              "\n",
              "    .dataframe thead th {\n",
              "        text-align: right;\n",
              "    }\n",
              "</style>\n",
              "<table border=\"1\" class=\"dataframe\">\n",
              "  <thead>\n",
              "    <tr style=\"text-align: right;\">\n",
              "      <th></th>\n",
              "      <th>Attrition</th>\n",
              "      <th>BusinessTravel</th>\n",
              "      <th>Department</th>\n",
              "      <th>EducationField</th>\n",
              "      <th>Gender</th>\n",
              "      <th>JobRole</th>\n",
              "      <th>MaritalStatus</th>\n",
              "      <th>OverTime</th>\n",
              "    </tr>\n",
              "  </thead>\n",
              "  <tbody>\n",
              "    <tr>\n",
              "      <th>0</th>\n",
              "      <td>Yes</td>\n",
              "      <td>Travel_Rarely</td>\n",
              "      <td>Sales</td>\n",
              "      <td>Life Sciences</td>\n",
              "      <td>Female</td>\n",
              "      <td>Sales Executive</td>\n",
              "      <td>Single</td>\n",
              "      <td>Yes</td>\n",
              "    </tr>\n",
              "    <tr>\n",
              "      <th>1</th>\n",
              "      <td>No</td>\n",
              "      <td>Travel_Frequently</td>\n",
              "      <td>Research &amp; Development</td>\n",
              "      <td>Life Sciences</td>\n",
              "      <td>Male</td>\n",
              "      <td>Research Scientist</td>\n",
              "      <td>Married</td>\n",
              "      <td>No</td>\n",
              "    </tr>\n",
              "    <tr>\n",
              "      <th>2</th>\n",
              "      <td>Yes</td>\n",
              "      <td>Travel_Rarely</td>\n",
              "      <td>Research &amp; Development</td>\n",
              "      <td>Other</td>\n",
              "      <td>Male</td>\n",
              "      <td>Laboratory Technician</td>\n",
              "      <td>Single</td>\n",
              "      <td>Yes</td>\n",
              "    </tr>\n",
              "    <tr>\n",
              "      <th>3</th>\n",
              "      <td>No</td>\n",
              "      <td>Travel_Frequently</td>\n",
              "      <td>Research &amp; Development</td>\n",
              "      <td>Life Sciences</td>\n",
              "      <td>Female</td>\n",
              "      <td>Research Scientist</td>\n",
              "      <td>Married</td>\n",
              "      <td>Yes</td>\n",
              "    </tr>\n",
              "    <tr>\n",
              "      <th>4</th>\n",
              "      <td>No</td>\n",
              "      <td>Travel_Rarely</td>\n",
              "      <td>Research &amp; Development</td>\n",
              "      <td>Medical</td>\n",
              "      <td>Male</td>\n",
              "      <td>Laboratory Technician</td>\n",
              "      <td>Married</td>\n",
              "      <td>No</td>\n",
              "    </tr>\n",
              "    <tr>\n",
              "      <th>...</th>\n",
              "      <td>...</td>\n",
              "      <td>...</td>\n",
              "      <td>...</td>\n",
              "      <td>...</td>\n",
              "      <td>...</td>\n",
              "      <td>...</td>\n",
              "      <td>...</td>\n",
              "      <td>...</td>\n",
              "    </tr>\n",
              "    <tr>\n",
              "      <th>2935</th>\n",
              "      <td>No</td>\n",
              "      <td>Travel_Frequently</td>\n",
              "      <td>Research &amp; Development</td>\n",
              "      <td>Medical</td>\n",
              "      <td>Male</td>\n",
              "      <td>Laboratory Technician</td>\n",
              "      <td>Married</td>\n",
              "      <td>No</td>\n",
              "    </tr>\n",
              "    <tr>\n",
              "      <th>2936</th>\n",
              "      <td>No</td>\n",
              "      <td>Travel_Rarely</td>\n",
              "      <td>Research &amp; Development</td>\n",
              "      <td>Medical</td>\n",
              "      <td>Male</td>\n",
              "      <td>Healthcare Representative</td>\n",
              "      <td>Married</td>\n",
              "      <td>No</td>\n",
              "    </tr>\n",
              "    <tr>\n",
              "      <th>2937</th>\n",
              "      <td>No</td>\n",
              "      <td>Travel_Rarely</td>\n",
              "      <td>Research &amp; Development</td>\n",
              "      <td>Life Sciences</td>\n",
              "      <td>Male</td>\n",
              "      <td>Manufacturing Director</td>\n",
              "      <td>Married</td>\n",
              "      <td>Yes</td>\n",
              "    </tr>\n",
              "    <tr>\n",
              "      <th>2938</th>\n",
              "      <td>No</td>\n",
              "      <td>Travel_Frequently</td>\n",
              "      <td>Sales</td>\n",
              "      <td>Medical</td>\n",
              "      <td>Male</td>\n",
              "      <td>Sales Executive</td>\n",
              "      <td>Married</td>\n",
              "      <td>No</td>\n",
              "    </tr>\n",
              "    <tr>\n",
              "      <th>2939</th>\n",
              "      <td>No</td>\n",
              "      <td>Travel_Rarely</td>\n",
              "      <td>Research &amp; Development</td>\n",
              "      <td>Medical</td>\n",
              "      <td>Male</td>\n",
              "      <td>Laboratory Technician</td>\n",
              "      <td>Married</td>\n",
              "      <td>No</td>\n",
              "    </tr>\n",
              "  </tbody>\n",
              "</table>\n",
              "<p>2940 rows × 8 columns</p>\n",
              "</div>"
            ],
            "text/plain": [
              "     Attrition     BusinessTravel              Department EducationField  \\\n",
              "0          Yes      Travel_Rarely                   Sales  Life Sciences   \n",
              "1           No  Travel_Frequently  Research & Development  Life Sciences   \n",
              "2          Yes      Travel_Rarely  Research & Development          Other   \n",
              "3           No  Travel_Frequently  Research & Development  Life Sciences   \n",
              "4           No      Travel_Rarely  Research & Development        Medical   \n",
              "...        ...                ...                     ...            ...   \n",
              "2935        No  Travel_Frequently  Research & Development        Medical   \n",
              "2936        No      Travel_Rarely  Research & Development        Medical   \n",
              "2937        No      Travel_Rarely  Research & Development  Life Sciences   \n",
              "2938        No  Travel_Frequently                   Sales        Medical   \n",
              "2939        No      Travel_Rarely  Research & Development        Medical   \n",
              "\n",
              "      Gender                    JobRole MaritalStatus OverTime  \n",
              "0     Female            Sales Executive        Single      Yes  \n",
              "1       Male         Research Scientist       Married       No  \n",
              "2       Male      Laboratory Technician        Single      Yes  \n",
              "3     Female         Research Scientist       Married      Yes  \n",
              "4       Male      Laboratory Technician       Married       No  \n",
              "...      ...                        ...           ...      ...  \n",
              "2935    Male      Laboratory Technician       Married       No  \n",
              "2936    Male  Healthcare Representative       Married       No  \n",
              "2937    Male     Manufacturing Director       Married      Yes  \n",
              "2938    Male            Sales Executive       Married       No  \n",
              "2939    Male      Laboratory Technician       Married       No  \n",
              "\n",
              "[2940 rows x 8 columns]"
            ]
          },
          "execution_count": 18,
          "metadata": {},
          "output_type": "execute_result"
        }
      ]
    },
    {
      "cell_type": "code",
      "metadata": {
        "id": "c094928e"
      },
      "source": [
        "from sklearn import preprocessing"
      ],
      "id": "c094928e",
      "execution_count": null,
      "outputs": []
    },
    {
      "cell_type": "code",
      "metadata": {
        "scrolled": true,
        "id": "27423592"
      },
      "source": [
        "#Converting categorical to numerical values\n",
        "\n",
        "def labelencoder(df):\n",
        "    temp_df = df.copy()\n",
        "    le = preprocessing.LabelEncoder()\n",
        "    \n",
        "    temp_df[\"Attrition\"] = le.fit_transform(temp_df[\"Attrition\"])\n",
        "    temp_df[\"BusinessTravel\"] = le.fit_transform(temp_df[\"BusinessTravel\"])\n",
        "    temp_df[\"Department\"] = le.fit_transform(temp_df[\"Department\"])\n",
        "    temp_df[\"EducationField\"] = le.fit_transform(temp_df[\"EducationField\"])\n",
        "    temp_df[\"Gender\"] = le.fit_transform(temp_df[\"Gender\"])\n",
        "    temp_df[\"JobRole\"] = le.fit_transform(temp_df[\"JobRole\"])\n",
        "    temp_df[\"MaritalStatus\"] = le.fit_transform(temp_df[\"MaritalStatus\"])\n",
        "    temp_df[\"OverTime\"] = le.fit_transform(temp_df[\"OverTime\"])\n",
        "    return temp_df\n",
        "\n",
        "encoded_cap_data = labelencoder(data1)\n"
      ],
      "id": "27423592",
      "execution_count": null,
      "outputs": []
    },
    {
      "cell_type": "code",
      "metadata": {
        "id": "c1da0430",
        "outputId": "022c4ecd-a039-4022-8d03-d3361eecda8c"
      },
      "source": [
        "encoded_cap_data"
      ],
      "id": "c1da0430",
      "execution_count": null,
      "outputs": [
        {
          "data": {
            "text/html": [
              "<div>\n",
              "<style scoped>\n",
              "    .dataframe tbody tr th:only-of-type {\n",
              "        vertical-align: middle;\n",
              "    }\n",
              "\n",
              "    .dataframe tbody tr th {\n",
              "        vertical-align: top;\n",
              "    }\n",
              "\n",
              "    .dataframe thead th {\n",
              "        text-align: right;\n",
              "    }\n",
              "</style>\n",
              "<table border=\"1\" class=\"dataframe\">\n",
              "  <thead>\n",
              "    <tr style=\"text-align: right;\">\n",
              "      <th></th>\n",
              "      <th>Age</th>\n",
              "      <th>Attrition</th>\n",
              "      <th>BusinessTravel</th>\n",
              "      <th>DailyRate</th>\n",
              "      <th>Department</th>\n",
              "      <th>DistanceFromHome</th>\n",
              "      <th>Education</th>\n",
              "      <th>EducationField</th>\n",
              "      <th>EnvironmentSatisfaction</th>\n",
              "      <th>Gender</th>\n",
              "      <th>...</th>\n",
              "      <th>PerformanceRating</th>\n",
              "      <th>RelationshipSatisfaction</th>\n",
              "      <th>StockOptionLevel</th>\n",
              "      <th>TotalWorkingYears</th>\n",
              "      <th>TrainingTimesLastYear</th>\n",
              "      <th>WorkLifeBalance</th>\n",
              "      <th>YearsAtCompany</th>\n",
              "      <th>YearsInCurrentRole</th>\n",
              "      <th>YearsSinceLastPromotion</th>\n",
              "      <th>YearsWithCurrManager</th>\n",
              "    </tr>\n",
              "  </thead>\n",
              "  <tbody>\n",
              "    <tr>\n",
              "      <th>0</th>\n",
              "      <td>41</td>\n",
              "      <td>1</td>\n",
              "      <td>2</td>\n",
              "      <td>1102</td>\n",
              "      <td>2</td>\n",
              "      <td>1</td>\n",
              "      <td>2</td>\n",
              "      <td>1</td>\n",
              "      <td>2</td>\n",
              "      <td>0</td>\n",
              "      <td>...</td>\n",
              "      <td>3</td>\n",
              "      <td>1</td>\n",
              "      <td>0</td>\n",
              "      <td>8</td>\n",
              "      <td>0</td>\n",
              "      <td>1</td>\n",
              "      <td>6</td>\n",
              "      <td>4</td>\n",
              "      <td>0</td>\n",
              "      <td>5</td>\n",
              "    </tr>\n",
              "    <tr>\n",
              "      <th>1</th>\n",
              "      <td>49</td>\n",
              "      <td>0</td>\n",
              "      <td>1</td>\n",
              "      <td>279</td>\n",
              "      <td>1</td>\n",
              "      <td>8</td>\n",
              "      <td>1</td>\n",
              "      <td>1</td>\n",
              "      <td>3</td>\n",
              "      <td>1</td>\n",
              "      <td>...</td>\n",
              "      <td>4</td>\n",
              "      <td>4</td>\n",
              "      <td>1</td>\n",
              "      <td>10</td>\n",
              "      <td>3</td>\n",
              "      <td>3</td>\n",
              "      <td>10</td>\n",
              "      <td>7</td>\n",
              "      <td>1</td>\n",
              "      <td>7</td>\n",
              "    </tr>\n",
              "    <tr>\n",
              "      <th>2</th>\n",
              "      <td>37</td>\n",
              "      <td>1</td>\n",
              "      <td>2</td>\n",
              "      <td>1373</td>\n",
              "      <td>1</td>\n",
              "      <td>2</td>\n",
              "      <td>2</td>\n",
              "      <td>4</td>\n",
              "      <td>4</td>\n",
              "      <td>1</td>\n",
              "      <td>...</td>\n",
              "      <td>3</td>\n",
              "      <td>2</td>\n",
              "      <td>0</td>\n",
              "      <td>7</td>\n",
              "      <td>3</td>\n",
              "      <td>3</td>\n",
              "      <td>0</td>\n",
              "      <td>0</td>\n",
              "      <td>0</td>\n",
              "      <td>0</td>\n",
              "    </tr>\n",
              "    <tr>\n",
              "      <th>3</th>\n",
              "      <td>33</td>\n",
              "      <td>0</td>\n",
              "      <td>1</td>\n",
              "      <td>1392</td>\n",
              "      <td>1</td>\n",
              "      <td>3</td>\n",
              "      <td>4</td>\n",
              "      <td>1</td>\n",
              "      <td>4</td>\n",
              "      <td>0</td>\n",
              "      <td>...</td>\n",
              "      <td>3</td>\n",
              "      <td>3</td>\n",
              "      <td>0</td>\n",
              "      <td>8</td>\n",
              "      <td>3</td>\n",
              "      <td>3</td>\n",
              "      <td>8</td>\n",
              "      <td>7</td>\n",
              "      <td>3</td>\n",
              "      <td>0</td>\n",
              "    </tr>\n",
              "    <tr>\n",
              "      <th>4</th>\n",
              "      <td>27</td>\n",
              "      <td>0</td>\n",
              "      <td>2</td>\n",
              "      <td>591</td>\n",
              "      <td>1</td>\n",
              "      <td>2</td>\n",
              "      <td>1</td>\n",
              "      <td>3</td>\n",
              "      <td>1</td>\n",
              "      <td>1</td>\n",
              "      <td>...</td>\n",
              "      <td>3</td>\n",
              "      <td>4</td>\n",
              "      <td>1</td>\n",
              "      <td>6</td>\n",
              "      <td>3</td>\n",
              "      <td>3</td>\n",
              "      <td>2</td>\n",
              "      <td>2</td>\n",
              "      <td>2</td>\n",
              "      <td>2</td>\n",
              "    </tr>\n",
              "    <tr>\n",
              "      <th>...</th>\n",
              "      <td>...</td>\n",
              "      <td>...</td>\n",
              "      <td>...</td>\n",
              "      <td>...</td>\n",
              "      <td>...</td>\n",
              "      <td>...</td>\n",
              "      <td>...</td>\n",
              "      <td>...</td>\n",
              "      <td>...</td>\n",
              "      <td>...</td>\n",
              "      <td>...</td>\n",
              "      <td>...</td>\n",
              "      <td>...</td>\n",
              "      <td>...</td>\n",
              "      <td>...</td>\n",
              "      <td>...</td>\n",
              "      <td>...</td>\n",
              "      <td>...</td>\n",
              "      <td>...</td>\n",
              "      <td>...</td>\n",
              "      <td>...</td>\n",
              "    </tr>\n",
              "    <tr>\n",
              "      <th>2935</th>\n",
              "      <td>36</td>\n",
              "      <td>0</td>\n",
              "      <td>1</td>\n",
              "      <td>884</td>\n",
              "      <td>1</td>\n",
              "      <td>23</td>\n",
              "      <td>2</td>\n",
              "      <td>3</td>\n",
              "      <td>3</td>\n",
              "      <td>1</td>\n",
              "      <td>...</td>\n",
              "      <td>3</td>\n",
              "      <td>3</td>\n",
              "      <td>1</td>\n",
              "      <td>17</td>\n",
              "      <td>3</td>\n",
              "      <td>3</td>\n",
              "      <td>5</td>\n",
              "      <td>2</td>\n",
              "      <td>0</td>\n",
              "      <td>3</td>\n",
              "    </tr>\n",
              "    <tr>\n",
              "      <th>2936</th>\n",
              "      <td>39</td>\n",
              "      <td>0</td>\n",
              "      <td>2</td>\n",
              "      <td>613</td>\n",
              "      <td>1</td>\n",
              "      <td>6</td>\n",
              "      <td>1</td>\n",
              "      <td>3</td>\n",
              "      <td>4</td>\n",
              "      <td>1</td>\n",
              "      <td>...</td>\n",
              "      <td>3</td>\n",
              "      <td>1</td>\n",
              "      <td>1</td>\n",
              "      <td>9</td>\n",
              "      <td>5</td>\n",
              "      <td>3</td>\n",
              "      <td>7</td>\n",
              "      <td>7</td>\n",
              "      <td>1</td>\n",
              "      <td>7</td>\n",
              "    </tr>\n",
              "    <tr>\n",
              "      <th>2937</th>\n",
              "      <td>27</td>\n",
              "      <td>0</td>\n",
              "      <td>2</td>\n",
              "      <td>155</td>\n",
              "      <td>1</td>\n",
              "      <td>4</td>\n",
              "      <td>3</td>\n",
              "      <td>1</td>\n",
              "      <td>2</td>\n",
              "      <td>1</td>\n",
              "      <td>...</td>\n",
              "      <td>4</td>\n",
              "      <td>2</td>\n",
              "      <td>1</td>\n",
              "      <td>6</td>\n",
              "      <td>0</td>\n",
              "      <td>3</td>\n",
              "      <td>6</td>\n",
              "      <td>2</td>\n",
              "      <td>0</td>\n",
              "      <td>3</td>\n",
              "    </tr>\n",
              "    <tr>\n",
              "      <th>2938</th>\n",
              "      <td>49</td>\n",
              "      <td>0</td>\n",
              "      <td>1</td>\n",
              "      <td>1023</td>\n",
              "      <td>2</td>\n",
              "      <td>2</td>\n",
              "      <td>3</td>\n",
              "      <td>3</td>\n",
              "      <td>4</td>\n",
              "      <td>1</td>\n",
              "      <td>...</td>\n",
              "      <td>3</td>\n",
              "      <td>4</td>\n",
              "      <td>0</td>\n",
              "      <td>17</td>\n",
              "      <td>3</td>\n",
              "      <td>2</td>\n",
              "      <td>9</td>\n",
              "      <td>6</td>\n",
              "      <td>0</td>\n",
              "      <td>8</td>\n",
              "    </tr>\n",
              "    <tr>\n",
              "      <th>2939</th>\n",
              "      <td>34</td>\n",
              "      <td>0</td>\n",
              "      <td>2</td>\n",
              "      <td>628</td>\n",
              "      <td>1</td>\n",
              "      <td>8</td>\n",
              "      <td>3</td>\n",
              "      <td>3</td>\n",
              "      <td>2</td>\n",
              "      <td>1</td>\n",
              "      <td>...</td>\n",
              "      <td>3</td>\n",
              "      <td>1</td>\n",
              "      <td>0</td>\n",
              "      <td>6</td>\n",
              "      <td>3</td>\n",
              "      <td>4</td>\n",
              "      <td>4</td>\n",
              "      <td>3</td>\n",
              "      <td>1</td>\n",
              "      <td>2</td>\n",
              "    </tr>\n",
              "  </tbody>\n",
              "</table>\n",
              "<p>2940 rows × 31 columns</p>\n",
              "</div>"
            ],
            "text/plain": [
              "      Age  Attrition  BusinessTravel  DailyRate  Department  DistanceFromHome  \\\n",
              "0      41          1               2       1102           2                 1   \n",
              "1      49          0               1        279           1                 8   \n",
              "2      37          1               2       1373           1                 2   \n",
              "3      33          0               1       1392           1                 3   \n",
              "4      27          0               2        591           1                 2   \n",
              "...   ...        ...             ...        ...         ...               ...   \n",
              "2935   36          0               1        884           1                23   \n",
              "2936   39          0               2        613           1                 6   \n",
              "2937   27          0               2        155           1                 4   \n",
              "2938   49          0               1       1023           2                 2   \n",
              "2939   34          0               2        628           1                 8   \n",
              "\n",
              "      Education  EducationField  EnvironmentSatisfaction  Gender  ...  \\\n",
              "0             2               1                        2       0  ...   \n",
              "1             1               1                        3       1  ...   \n",
              "2             2               4                        4       1  ...   \n",
              "3             4               1                        4       0  ...   \n",
              "4             1               3                        1       1  ...   \n",
              "...         ...             ...                      ...     ...  ...   \n",
              "2935          2               3                        3       1  ...   \n",
              "2936          1               3                        4       1  ...   \n",
              "2937          3               1                        2       1  ...   \n",
              "2938          3               3                        4       1  ...   \n",
              "2939          3               3                        2       1  ...   \n",
              "\n",
              "      PerformanceRating  RelationshipSatisfaction  StockOptionLevel  \\\n",
              "0                     3                         1                 0   \n",
              "1                     4                         4                 1   \n",
              "2                     3                         2                 0   \n",
              "3                     3                         3                 0   \n",
              "4                     3                         4                 1   \n",
              "...                 ...                       ...               ...   \n",
              "2935                  3                         3                 1   \n",
              "2936                  3                         1                 1   \n",
              "2937                  4                         2                 1   \n",
              "2938                  3                         4                 0   \n",
              "2939                  3                         1                 0   \n",
              "\n",
              "      TotalWorkingYears  TrainingTimesLastYear  WorkLifeBalance  \\\n",
              "0                     8                      0                1   \n",
              "1                    10                      3                3   \n",
              "2                     7                      3                3   \n",
              "3                     8                      3                3   \n",
              "4                     6                      3                3   \n",
              "...                 ...                    ...              ...   \n",
              "2935                 17                      3                3   \n",
              "2936                  9                      5                3   \n",
              "2937                  6                      0                3   \n",
              "2938                 17                      3                2   \n",
              "2939                  6                      3                4   \n",
              "\n",
              "      YearsAtCompany  YearsInCurrentRole  YearsSinceLastPromotion  \\\n",
              "0                  6                   4                        0   \n",
              "1                 10                   7                        1   \n",
              "2                  0                   0                        0   \n",
              "3                  8                   7                        3   \n",
              "4                  2                   2                        2   \n",
              "...              ...                 ...                      ...   \n",
              "2935               5                   2                        0   \n",
              "2936               7                   7                        1   \n",
              "2937               6                   2                        0   \n",
              "2938               9                   6                        0   \n",
              "2939               4                   3                        1   \n",
              "\n",
              "      YearsWithCurrManager  \n",
              "0                        5  \n",
              "1                        7  \n",
              "2                        0  \n",
              "3                        0  \n",
              "4                        2  \n",
              "...                    ...  \n",
              "2935                     3  \n",
              "2936                     7  \n",
              "2937                     3  \n",
              "2938                     8  \n",
              "2939                     2  \n",
              "\n",
              "[2940 rows x 31 columns]"
            ]
          },
          "execution_count": 36,
          "metadata": {},
          "output_type": "execute_result"
        }
      ]
    },
    {
      "cell_type": "code",
      "metadata": {
        "id": "e36eeeb6"
      },
      "source": [
        "from sklearn.metrics import recall_score\n",
        "from sklearn.metrics import roc_curve, auc,confusion_matrix"
      ],
      "id": "e36eeeb6",
      "execution_count": null,
      "outputs": []
    },
    {
      "cell_type": "code",
      "metadata": {
        "id": "65d0725f"
      },
      "source": [
        "#Split x and y\n",
        "y = encoded_cap_data[\"Attrition\"].values\n",
        "X = encoded_cap_data.drop([\"Attrition\"],axis =1)"
      ],
      "id": "65d0725f",
      "execution_count": null,
      "outputs": []
    },
    {
      "cell_type": "code",
      "metadata": {
        "id": "927bfbd7"
      },
      "source": [
        "#Splitting into training and testing\n",
        "from sklearn.model_selection import train_test_split\n",
        "X_train, X_test, y_train, y_test = train_test_split(X,y,test_size =0.3,shuffle='TRUE')\n"
      ],
      "id": "927bfbd7",
      "execution_count": null,
      "outputs": []
    },
    {
      "cell_type": "code",
      "metadata": {
        "id": "b75a4478",
        "outputId": "2e20e22e-7553-4b10-8190-f527d11f8eea"
      },
      "source": [
        "X_train.shape"
      ],
      "id": "b75a4478",
      "execution_count": null,
      "outputs": [
        {
          "data": {
            "text/plain": [
              "(2058, 30)"
            ]
          },
          "execution_count": 26,
          "metadata": {},
          "output_type": "execute_result"
        }
      ]
    },
    {
      "cell_type": "code",
      "metadata": {
        "id": "69a2c0fd",
        "outputId": "62cd5b02-fd63-44f1-801f-fe8d349bddaa"
      },
      "source": [
        "y_train"
      ],
      "id": "69a2c0fd",
      "execution_count": null,
      "outputs": [
        {
          "data": {
            "text/plain": [
              "array([1, 0, 1, ..., 0, 0, 0])"
            ]
          },
          "execution_count": 37,
          "metadata": {},
          "output_type": "execute_result"
        }
      ]
    },
    {
      "cell_type": "markdown",
      "metadata": {
        "id": "714d6fba"
      },
      "source": [
        "# Training\n"
      ],
      "id": "714d6fba"
    },
    {
      "cell_type": "code",
      "metadata": {
        "id": "5a90af27"
      },
      "source": [
        "from sklearn.linear_model import LogisticRegression\n",
        "from sklearn.neighbors import KNeighborsClassifier\n",
        "from sklearn.tree import DecisionTreeClassifier\n",
        "from sklearn.ensemble import RandomForestClassifier"
      ],
      "id": "5a90af27",
      "execution_count": null,
      "outputs": []
    },
    {
      "cell_type": "code",
      "metadata": {
        "id": "d3abbc4c",
        "outputId": "c8d7b184-e8f8-41cb-c4ce-83f25ce0be66"
      },
      "source": [
        "models = { 'LogisticRegression':LogisticRegression(),\n",
        "            'K-Nearest Neighbors': KNeighborsClassifier(),\n",
        "             'DecisionTree': DecisionTreeClassifier(),\n",
        "             'RandomForest': RandomForestClassifier()}\n",
        "\n",
        "for name,model in models.items():\n",
        "    model.fit(X_train,y_train)\n",
        "    print(name+ \"trained.\")"
      ],
      "id": "d3abbc4c",
      "execution_count": null,
      "outputs": [
        {
          "name": "stderr",
          "output_type": "stream",
          "text": [
            "C:\\Users\\hp\\anaconda3\\lib\\site-packages\\sklearn\\linear_model\\_logistic.py:763: ConvergenceWarning: lbfgs failed to converge (status=1):\n",
            "STOP: TOTAL NO. of ITERATIONS REACHED LIMIT.\n",
            "\n",
            "Increase the number of iterations (max_iter) or scale the data as shown in:\n",
            "    https://scikit-learn.org/stable/modules/preprocessing.html\n",
            "Please also refer to the documentation for alternative solver options:\n",
            "    https://scikit-learn.org/stable/modules/linear_model.html#logistic-regression\n",
            "  n_iter_i = _check_optimize_result(\n"
          ]
        },
        {
          "name": "stdout",
          "output_type": "stream",
          "text": [
            "LogisticRegressiontrained.\n",
            "K-Nearest Neighborstrained.\n",
            "DecisionTreetrained.\n",
            "RandomForesttrained.\n"
          ]
        }
      ]
    },
    {
      "cell_type": "markdown",
      "metadata": {
        "id": "14a06ca8"
      },
      "source": [
        "# Results\n"
      ],
      "id": "14a06ca8"
    },
    {
      "cell_type": "code",
      "metadata": {
        "id": "e36c0a65",
        "outputId": "ff800c0f-f370-4afe-ae21-ef2031cfeedb"
      },
      "source": [
        "for name,model in models.items():\n",
        "    print(name + \":{:.2f}%\".format(model.score(X_test,y_test)*100))"
      ],
      "id": "e36c0a65",
      "execution_count": null,
      "outputs": [
        {
          "name": "stdout",
          "output_type": "stream",
          "text": [
            "LogisticRegression:81.52%\n",
            "K-Nearest Neighbors:83.11%\n",
            "DecisionTree:93.65%\n",
            "RandomForest:95.46%\n"
          ]
        }
      ]
    },
    {
      "cell_type": "code",
      "metadata": {
        "id": "ca2efa86",
        "outputId": "92321c90-2f6e-44ae-d779-c515873bd919"
      },
      "source": [
        "#Build the decision tree model with tree size 50\n",
        "model_HR = RandomForestClassifier(n_estimators = 50, random_state = 0)\n",
        "model_HR.fit(X_train, y_train)\n",
        "model_HR_score_train = model_HR.score(X_train, y_train)\n",
        "print(\"Training score: \",model_HR_score_train)\n",
        "model_HR_score_test = model_HR.score(X_test, y_test)\n",
        "print(\"Testing score: \",model_HR_score_test)\n"
      ],
      "id": "ca2efa86",
      "execution_count": null,
      "outputs": [
        {
          "name": "stdout",
          "output_type": "stream",
          "text": [
            "Training score:  1.0\n",
            "Testing score:  0.9591836734693877\n"
          ]
        }
      ]
    },
    {
      "cell_type": "markdown",
      "metadata": {
        "id": "70ba80cf"
      },
      "source": [
        "# Performance Metrics\n"
      ],
      "id": "70ba80cf"
    },
    {
      "cell_type": "code",
      "metadata": {
        "id": "0b483d90",
        "outputId": "e0995c86-edb2-4f18-b501-ae9654b73f61"
      },
      "source": [
        "# Model Accuracy:\n",
        "print (\"Model Accuracy is::\", (model_HR.score(X_test, y_test))*100)\n",
        "# Recall\n",
        "print(\"Model recall is::\", (recall_score(y_test, y_pred))*100)\n"
      ],
      "id": "0b483d90",
      "execution_count": null,
      "outputs": [
        {
          "name": "stdout",
          "output_type": "stream",
          "text": [
            "Model Accuracy is:: 95.91836734693877\n",
            "Model recall is:: 77.63975155279503\n"
          ]
        }
      ]
    },
    {
      "cell_type": "code",
      "metadata": {
        "id": "15f7ca71",
        "outputId": "4a521264-dc71-49df-f12a-f7bbbeecfb12"
      },
      "source": [
        "#Predicting the Attrition for X_test\n",
        "y_pred = model_HR.predict(X_test)\n",
        "y_pred"
      ],
      "id": "15f7ca71",
      "execution_count": null,
      "outputs": [
        {
          "data": {
            "text/plain": [
              "array([0, 0, 0, 0, 0, 0, 0, 0, 0, 0, 0, 1, 0, 1, 0, 0, 0, 0, 0, 0, 0, 0,\n",
              "       0, 0, 0, 0, 0, 0, 0, 0, 0, 0, 1, 1, 0, 0, 0, 0, 0, 0, 0, 0, 0, 0,\n",
              "       0, 0, 0, 0, 0, 0, 0, 0, 0, 0, 0, 0, 0, 0, 0, 0, 0, 0, 0, 1, 0, 0,\n",
              "       0, 0, 0, 0, 1, 0, 0, 0, 0, 0, 0, 0, 0, 1, 1, 0, 0, 0, 0, 0, 1, 0,\n",
              "       0, 0, 0, 0, 0, 1, 0, 0, 1, 0, 0, 1, 0, 0, 0, 0, 0, 0, 0, 0, 0, 0,\n",
              "       0, 0, 0, 0, 0, 0, 0, 0, 0, 1, 0, 0, 0, 0, 0, 0, 0, 0, 0, 0, 0, 0,\n",
              "       0, 1, 0, 0, 0, 0, 0, 0, 0, 1, 0, 0, 0, 0, 0, 0, 0, 0, 0, 0, 0, 0,\n",
              "       0, 0, 0, 0, 0, 1, 1, 0, 0, 0, 0, 0, 1, 0, 0, 0, 0, 0, 0, 0, 0, 0,\n",
              "       0, 0, 0, 0, 0, 1, 0, 0, 0, 0, 0, 0, 0, 1, 1, 0, 0, 0, 0, 0, 0, 0,\n",
              "       0, 0, 1, 0, 1, 0, 0, 0, 0, 0, 0, 0, 0, 0, 0, 0, 0, 1, 0, 0, 0, 0,\n",
              "       1, 0, 0, 0, 0, 0, 0, 0, 0, 0, 0, 0, 0, 0, 0, 0, 1, 0, 0, 0, 0, 1,\n",
              "       0, 0, 0, 0, 0, 0, 0, 0, 1, 1, 0, 0, 0, 0, 0, 0, 1, 0, 0, 0, 0, 0,\n",
              "       0, 0, 0, 0, 0, 1, 1, 1, 0, 0, 0, 1, 0, 0, 0, 0, 0, 1, 1, 1, 0, 0,\n",
              "       0, 0, 1, 0, 0, 0, 0, 0, 0, 0, 0, 1, 0, 0, 0, 0, 0, 0, 0, 0, 0, 0,\n",
              "       0, 0, 0, 0, 0, 0, 0, 0, 1, 0, 0, 0, 0, 0, 0, 0, 0, 1, 0, 0, 0, 0,\n",
              "       0, 0, 0, 0, 1, 0, 1, 0, 0, 0, 0, 0, 0, 0, 0, 1, 0, 0, 0, 0, 0, 0,\n",
              "       0, 1, 0, 1, 0, 0, 0, 1, 0, 1, 0, 0, 1, 0, 0, 0, 0, 0, 0, 0, 1, 0,\n",
              "       1, 0, 0, 0, 1, 0, 0, 0, 0, 0, 0, 1, 0, 0, 0, 0, 0, 0, 1, 1, 0, 0,\n",
              "       0, 0, 0, 0, 0, 0, 0, 0, 1, 0, 1, 0, 0, 0, 0, 1, 0, 0, 0, 1, 0, 0,\n",
              "       0, 0, 0, 0, 0, 0, 0, 0, 0, 0, 0, 0, 0, 0, 0, 0, 0, 0, 0, 0, 0, 0,\n",
              "       0, 0, 0, 0, 1, 0, 0, 0, 0, 0, 0, 0, 1, 0, 0, 0, 1, 0, 0, 0, 0, 0,\n",
              "       0, 0, 0, 0, 0, 0, 0, 1, 1, 0, 0, 1, 0, 0, 0, 0, 1, 0, 1, 0, 1, 0,\n",
              "       0, 0, 0, 0, 0, 0, 0, 0, 0, 0, 1, 0, 1, 0, 0, 0, 1, 0, 0, 1, 0, 0,\n",
              "       1, 0, 0, 0, 1, 1, 0, 0, 0, 0, 1, 0, 0, 0, 0, 0, 0, 0, 0, 0, 1, 0,\n",
              "       0, 0, 0, 1, 0, 1, 0, 0, 0, 0, 0, 0, 0, 0, 0, 0, 0, 0, 0, 0, 0, 0,\n",
              "       0, 0, 0, 0, 1, 0, 0, 0, 0, 0, 0, 0, 0, 0, 0, 0, 1, 1, 0, 0, 0, 0,\n",
              "       0, 0, 0, 0, 0, 0, 1, 0, 0, 0, 0, 0, 0, 0, 0, 0, 0, 0, 0, 1, 0, 0,\n",
              "       1, 0, 0, 0, 0, 0, 0, 0, 0, 0, 1, 0, 0, 1, 0, 0, 0, 0, 0, 0, 1, 0,\n",
              "       0, 0, 1, 0, 0, 0, 1, 0, 0, 0, 0, 0, 0, 0, 1, 0, 1, 0, 0, 0, 0, 0,\n",
              "       0, 0, 1, 0, 0, 1, 0, 0, 0, 0, 0, 0, 0, 0, 1, 0, 0, 0, 0, 1, 0, 0,\n",
              "       0, 0, 0, 0, 0, 0, 0, 0, 1, 0, 0, 0, 0, 0, 0, 0, 0, 0, 0, 0, 0, 0,\n",
              "       0, 1, 0, 0, 0, 0, 0, 1, 0, 0, 1, 0, 0, 0, 0, 0, 0, 0, 0, 0, 0, 0,\n",
              "       0, 0, 0, 0, 1, 0, 0, 1, 0, 0, 0, 1, 0, 0, 0, 0, 1, 0, 0, 0, 0, 0,\n",
              "       0, 0, 0, 0, 0, 0, 0, 0, 0, 0, 0, 0, 0, 0, 0, 1, 0, 0, 0, 0, 0, 0,\n",
              "       0, 1, 0, 0, 0, 0, 0, 0, 0, 0, 0, 0, 0, 0, 0, 1, 1, 0, 0, 0, 0, 1,\n",
              "       0, 0, 0, 0, 0, 0, 1, 1, 0, 1, 0, 0, 0, 1, 0, 0, 0, 0, 0, 0, 0, 0,\n",
              "       0, 0, 0, 0, 0, 1, 0, 0, 0, 0, 0, 0, 0, 0, 0, 0, 1, 0, 0, 0, 1, 1,\n",
              "       0, 0, 0, 0, 0, 0, 0, 1, 0, 0, 0, 0, 0, 0, 0, 0, 0, 0, 0, 0, 0, 1,\n",
              "       0, 0, 0, 1, 0, 0, 0, 0, 0, 0, 1, 0, 0, 0, 0, 0, 0, 0, 1, 0, 0, 1,\n",
              "       0, 0, 0, 0, 1, 0, 0, 0, 0, 1, 0, 0, 0, 0, 0, 0, 0, 0, 0, 0, 0, 0,\n",
              "       0, 0])"
            ]
          },
          "execution_count": 92,
          "metadata": {},
          "output_type": "execute_result"
        }
      ]
    },
    {
      "cell_type": "code",
      "metadata": {
        "id": "527fcad5",
        "outputId": "12431521-84ae-4ad8-cd3d-94c32ebbc1ed"
      },
      "source": [
        "#caluclating the probabilities for the AUC curve\n",
        "#Decision treemodel_dt_2\n",
        "y_pred_prob = model_HR.predict_proba(X_test)[:, 1]\n",
        "y_pred_prob"
      ],
      "id": "527fcad5",
      "execution_count": null,
      "outputs": [
        {
          "data": {
            "text/plain": [
              "array([0.14, 0.  , 0.16, 0.08, 0.22, 0.36, 0.14, 0.04, 0.06, 0.12, 0.04,\n",
              "       0.68, 0.02, 0.76, 0.24, 0.42, 0.18, 0.28, 0.2 , 0.  , 0.12, 0.02,\n",
              "       0.08, 0.04, 0.02, 0.26, 0.06, 0.12, 0.  , 0.08, 0.  , 0.  , 0.58,\n",
              "       0.72, 0.  , 0.12, 0.12, 0.24, 0.12, 0.02, 0.  , 0.04, 0.08, 0.06,\n",
              "       0.04, 0.04, 0.04, 0.04, 0.16, 0.02, 0.  , 0.04, 0.08, 0.  , 0.06,\n",
              "       0.04, 0.02, 0.08, 0.02, 0.02, 0.32, 0.08, 0.1 , 0.86, 0.1 , 0.  ,\n",
              "       0.14, 0.1 , 0.04, 0.02, 0.62, 0.18, 0.2 , 0.2 , 0.04, 0.06, 0.02,\n",
              "       0.02, 0.06, 0.64, 0.84, 0.5 , 0.06, 0.14, 0.12, 0.08, 0.68, 0.32,\n",
              "       0.12, 0.06, 0.06, 0.04, 0.08, 0.8 , 0.  , 0.1 , 0.74, 0.04, 0.12,\n",
              "       0.58, 0.  , 0.  , 0.14, 0.16, 0.  , 0.04, 0.4 , 0.08, 0.  , 0.5 ,\n",
              "       0.04, 0.14, 0.1 , 0.3 , 0.16, 0.06, 0.14, 0.08, 0.24, 0.54, 0.08,\n",
              "       0.02, 0.08, 0.18, 0.14, 0.02, 0.08, 0.12, 0.08, 0.06, 0.02, 0.02,\n",
              "       0.08, 0.62, 0.08, 0.16, 0.1 , 0.08, 0.1 , 0.02, 0.14, 0.74, 0.1 ,\n",
              "       0.4 , 0.16, 0.08, 0.12, 0.14, 0.06, 0.06, 0.04, 0.04, 0.02, 0.04,\n",
              "       0.24, 0.02, 0.08, 0.  , 0.02, 0.76, 0.84, 0.18, 0.02, 0.14, 0.04,\n",
              "       0.06, 0.8 , 0.02, 0.18, 0.06, 0.24, 0.04, 0.08, 0.  , 0.02, 0.04,\n",
              "       0.1 , 0.04, 0.1 , 0.02, 0.02, 0.84, 0.08, 0.18, 0.04, 0.  , 0.08,\n",
              "       0.14, 0.24, 0.72, 0.92, 0.06, 0.06, 0.12, 0.14, 0.  , 0.08, 0.16,\n",
              "       0.42, 0.1 , 0.72, 0.06, 0.94, 0.04, 0.1 , 0.12, 0.  , 0.1 , 0.06,\n",
              "       0.  , 0.26, 0.36, 0.1 , 0.2 , 0.14, 0.68, 0.02, 0.06, 0.14, 0.  ,\n",
              "       0.78, 0.04, 0.04, 0.  , 0.14, 0.02, 0.26, 0.04, 0.06, 0.06, 0.  ,\n",
              "       0.04, 0.04, 0.12, 0.14, 0.08, 0.78, 0.02, 0.02, 0.04, 0.08, 0.74,\n",
              "       0.  , 0.08, 0.04, 0.  , 0.14, 0.  , 0.  , 0.06, 0.58, 0.92, 0.12,\n",
              "       0.24, 0.18, 0.  , 0.04, 0.06, 0.9 , 0.  , 0.  , 0.1 , 0.04, 0.22,\n",
              "       0.02, 0.  , 0.06, 0.18, 0.26, 0.62, 0.78, 0.72, 0.08, 0.08, 0.  ,\n",
              "       0.72, 0.02, 0.08, 0.04, 0.  , 0.06, 0.7 , 0.8 , 0.72, 0.08, 0.12,\n",
              "       0.08, 0.08, 0.76, 0.24, 0.18, 0.04, 0.  , 0.04, 0.1 , 0.02, 0.16,\n",
              "       0.72, 0.  , 0.08, 0.14, 0.16, 0.  , 0.  , 0.04, 0.06, 0.08, 0.1 ,\n",
              "       0.04, 0.02, 0.04, 0.04, 0.04, 0.06, 0.04, 0.06, 0.76, 0.32, 0.06,\n",
              "       0.04, 0.06, 0.02, 0.02, 0.32, 0.04, 0.8 , 0.02, 0.14, 0.08, 0.06,\n",
              "       0.16, 0.06, 0.16, 0.04, 0.76, 0.1 , 0.72, 0.06, 0.12, 0.14, 0.04,\n",
              "       0.  , 0.14, 0.02, 0.  , 0.76, 0.1 , 0.08, 0.32, 0.  , 0.02, 0.02,\n",
              "       0.06, 0.58, 0.  , 0.84, 0.1 , 0.14, 0.06, 0.84, 0.  , 0.96, 0.14,\n",
              "       0.06, 0.7 , 0.02, 0.26, 0.08, 0.02, 0.02, 0.04, 0.02, 0.68, 0.08,\n",
              "       0.72, 0.08, 0.1 , 0.08, 0.56, 0.  , 0.02, 0.16, 0.22, 0.08, 0.5 ,\n",
              "       0.82, 0.26, 0.  , 0.12, 0.1 , 0.  , 0.12, 0.64, 0.6 , 0.  , 0.04,\n",
              "       0.  , 0.  , 0.14, 0.16, 0.04, 0.1 , 0.08, 0.02, 0.76, 0.06, 0.9 ,\n",
              "       0.04, 0.02, 0.02, 0.14, 0.54, 0.02, 0.02, 0.12, 0.64, 0.1 , 0.  ,\n",
              "       0.  , 0.2 , 0.02, 0.14, 0.08, 0.1 , 0.22, 0.5 , 0.08, 0.02, 0.1 ,\n",
              "       0.  , 0.1 , 0.  , 0.04, 0.12, 0.06, 0.06, 0.06, 0.04, 0.08, 0.1 ,\n",
              "       0.16, 0.14, 0.04, 0.02, 0.66, 0.02, 0.04, 0.04, 0.2 , 0.02, 0.04,\n",
              "       0.04, 0.78, 0.02, 0.12, 0.04, 0.74, 0.06, 0.02, 0.02, 0.04, 0.04,\n",
              "       0.02, 0.28, 0.06, 0.08, 0.08, 0.02, 0.12, 0.86, 0.56, 0.04, 0.1 ,\n",
              "       0.62, 0.04, 0.08, 0.06, 0.14, 0.74, 0.18, 0.82, 0.1 , 0.82, 0.12,\n",
              "       0.32, 0.08, 0.24, 0.04, 0.08, 0.04, 0.04, 0.06, 0.1 , 0.08, 0.74,\n",
              "       0.02, 0.76, 0.16, 0.18, 0.06, 0.88, 0.02, 0.  , 0.72, 0.06, 0.06,\n",
              "       0.62, 0.02, 0.02, 0.04, 0.72, 0.68, 0.1 , 0.28, 0.18, 0.  , 0.52,\n",
              "       0.06, 0.08, 0.02, 0.04, 0.16, 0.04, 0.  , 0.22, 0.04, 0.58, 0.  ,\n",
              "       0.02, 0.16, 0.08, 0.82, 0.12, 0.86, 0.  , 0.02, 0.16, 0.  , 0.08,\n",
              "       0.18, 0.12, 0.  , 0.  , 0.1 , 0.1 , 0.  , 0.04, 0.04, 0.18, 0.06,\n",
              "       0.06, 0.16, 0.32, 0.02, 0.66, 0.12, 0.  , 0.  , 0.24, 0.12, 0.12,\n",
              "       0.04, 0.02, 0.32, 0.04, 0.04, 0.68, 0.76, 0.04, 0.04, 0.04, 0.1 ,\n",
              "       0.02, 0.06, 0.02, 0.02, 0.02, 0.06, 0.86, 0.04, 0.06, 0.32, 0.06,\n",
              "       0.04, 0.02, 0.06, 0.06, 0.06, 0.1 , 0.28, 0.  , 0.76, 0.  , 0.04,\n",
              "       0.94, 0.12, 0.2 , 0.08, 0.06, 0.08, 0.08, 0.06, 0.02, 0.1 , 0.7 ,\n",
              "       0.  , 0.18, 0.66, 0.08, 0.  , 0.16, 0.04, 0.  , 0.02, 0.76, 0.  ,\n",
              "       0.  , 0.12, 0.54, 0.1 , 0.14, 0.  , 0.68, 0.32, 0.32, 0.  , 0.02,\n",
              "       0.12, 0.04, 0.04, 0.7 , 0.12, 0.78, 0.04, 0.04, 0.12, 0.06, 0.04,\n",
              "       0.02, 0.1 , 0.76, 0.04, 0.  , 0.76, 0.16, 0.18, 0.  , 0.  , 0.08,\n",
              "       0.18, 0.  , 0.06, 0.62, 0.12, 0.04, 0.02, 0.  , 0.58, 0.08, 0.08,\n",
              "       0.  , 0.1 , 0.06, 0.14, 0.  , 0.2 , 0.  , 0.04, 0.62, 0.06, 0.  ,\n",
              "       0.  , 0.  , 0.  , 0.1 , 0.  , 0.08, 0.04, 0.02, 0.04, 0.14, 0.1 ,\n",
              "       0.04, 0.62, 0.04, 0.14, 0.08, 0.16, 0.1 , 0.6 , 0.02, 0.1 , 0.72,\n",
              "       0.18, 0.02, 0.04, 0.18, 0.06, 0.1 , 0.02, 0.02, 0.34, 0.16, 0.08,\n",
              "       0.14, 0.14, 0.  , 0.  , 0.54, 0.24, 0.02, 0.6 , 0.06, 0.18, 0.08,\n",
              "       0.62, 0.32, 0.06, 0.02, 0.04, 0.78, 0.02, 0.08, 0.  , 0.1 , 0.2 ,\n",
              "       0.08, 0.06, 0.02, 0.  , 0.18, 0.02, 0.34, 0.04, 0.04, 0.04, 0.08,\n",
              "       0.1 , 0.12, 0.3 , 0.06, 0.66, 0.06, 0.02, 0.04, 0.08, 0.04, 0.06,\n",
              "       0.1 , 0.92, 0.08, 0.08, 0.24, 0.04, 0.14, 0.06, 0.04, 0.12, 0.1 ,\n",
              "       0.06, 0.1 , 0.04, 0.04, 0.56, 0.92, 0.1 , 0.1 , 0.02, 0.02, 0.78,\n",
              "       0.08, 0.18, 0.14, 0.02, 0.08, 0.24, 0.6 , 0.7 , 0.4 , 0.52, 0.18,\n",
              "       0.08, 0.  , 0.92, 0.16, 0.  , 0.08, 0.04, 0.1 , 0.28, 0.04, 0.08,\n",
              "       0.04, 0.04, 0.1 , 0.06, 0.08, 0.54, 0.2 , 0.2 , 0.02, 0.12, 0.  ,\n",
              "       0.02, 0.4 , 0.02, 0.24, 0.02, 0.56, 0.02, 0.12, 0.04, 0.8 , 0.7 ,\n",
              "       0.24, 0.  , 0.08, 0.  , 0.  , 0.06, 0.02, 0.94, 0.14, 0.06, 0.  ,\n",
              "       0.04, 0.08, 0.16, 0.  , 0.04, 0.  , 0.06, 0.02, 0.14, 0.06, 0.74,\n",
              "       0.14, 0.  , 0.02, 0.8 , 0.02, 0.16, 0.06, 0.  , 0.04, 0.18, 0.82,\n",
              "       0.1 , 0.04, 0.06, 0.32, 0.06, 0.14, 0.18, 0.92, 0.06, 0.02, 0.56,\n",
              "       0.04, 0.  , 0.04, 0.04, 0.94, 0.02, 0.02, 0.02, 0.02, 0.8 , 0.  ,\n",
              "       0.04, 0.04, 0.06, 0.14, 0.02, 0.02, 0.1 , 0.08, 0.12, 0.06, 0.08,\n",
              "       0.06, 0.32])"
            ]
          },
          "execution_count": 44,
          "metadata": {},
          "output_type": "execute_result"
        }
      ]
    },
    {
      "cell_type": "code",
      "metadata": {
        "id": "4f41c634",
        "outputId": "c00c83eb-53fc-40dc-abe4-e7394a3c267d"
      },
      "source": [
        "#Printing confusion matrix\n",
        "print (confusion_matrix(y_test, y_pred))"
      ],
      "id": "4f41c634",
      "execution_count": null,
      "outputs": [
        {
          "name": "stdout",
          "output_type": "stream",
          "text": [
            "[[721   0]\n",
            " [ 36 125]]\n"
          ]
        }
      ]
    },
    {
      "cell_type": "code",
      "metadata": {
        "id": "c8492cd8"
      },
      "source": [
        "#Area under the curve\n",
        "fpr_dt, tpr_dt, _ = roc_curve(y_test, y_pred_prob)\n",
        "roc_auc_dt = auc(fpr_dt, tpr_dt)"
      ],
      "id": "c8492cd8",
      "execution_count": null,
      "outputs": []
    },
    {
      "cell_type": "code",
      "metadata": {
        "id": "e05c506c",
        "outputId": "63101a1e-0d5a-47ee-b4b0-a21613fca06e"
      },
      "source": [
        "plt.figure(1)\n",
        "lw = 2\n",
        "plt.plot(fpr_dt, tpr_dt, color='green',\n",
        "         lw=lw, label='Decision Tree(AUC = %0.2f)' % roc_auc_dt)\n",
        "plt.plot([0, 1], [0, 1], color='navy', lw=lw, linestyle='--')\n",
        "\n",
        "plt.xlim([0.0, 1.0])\n",
        "plt.ylim([0.0, 1.05])\n",
        "plt.xlabel('False Positive Rate')\n",
        "plt.ylabel('True Positive Rate')\n",
        "plt.title('Area Under Curve')\n",
        "plt.legend(loc=\"lower right\")\n",
        "plt.show()"
      ],
      "id": "e05c506c",
      "execution_count": null,
      "outputs": [
        {
          "data": {
            "image/png": "[encoded data removed]",
            "text/plain": [
              "<Figure size 432x288 with 1 Axes>"
            ]
          },
          "metadata": {
            "needs_background": "light"
          },
          "output_type": "display_data"
        }
      ]
    },
    {
      "cell_type": "code",
      "metadata": {
        "id": "2b640619"
      },
      "source": [
        ""
      ],
      "id": "2b640619",
      "execution_count": null,
      "outputs": []
    },
    {
      "cell_type": "code",
      "metadata": {
        "id": "d8241205"
      },
      "source": [
        ""
      ],
      "id": "d8241205",
      "execution_count": null,
      "outputs": []
    },
    {
      "cell_type": "code",
      "metadata": {
        "id": "49b994b8"
      },
      "source": [
        ""
      ],
      "id": "49b994b8",
      "execution_count": null,
      "outputs": []
    },
    {
      "cell_type": "code",
      "metadata": {
        "id": "e22c73a4"
      },
      "source": [
        ""
      ],
      "id": "e22c73a4",
      "execution_count": null,
      "outputs": []
    },
    {
      "cell_type": "code",
      "metadata": {
        "id": "fe58c165"
      },
      "source": [
        ""
      ],
      "id": "fe58c165",
      "execution_count": null,
      "outputs": []
    }
  ]
}